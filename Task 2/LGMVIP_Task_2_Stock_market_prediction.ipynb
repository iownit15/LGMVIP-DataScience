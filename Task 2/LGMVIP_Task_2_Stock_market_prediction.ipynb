{
  "nbformat": 4,
  "nbformat_minor": 0,
  "metadata": {
    "colab": {
      "name": "LGMVIP Task 2 - Stock market prediction.ipynb",
      "provenance": []
    },
    "kernelspec": {
      "name": "python3",
      "display_name": "Python 3"
    },
    "language_info": {
      "name": "python"
    }
  },
  "cells": [
    {
      "cell_type": "markdown",
      "metadata": {
        "id": "IvQ_KoEX5BV_"
      },
      "source": [
        "# LGMVIP Task 2 - Stock Market Prediction and Forecasting using Stack LSTM"
      ]
    },
    {
      "cell_type": "markdown",
      "metadata": {
        "id": "by3fHjbX5SQ4"
      },
      "source": [
        "# Importing libraries"
      ]
    },
    {
      "cell_type": "code",
      "metadata": {
        "id": "diZjvBmU5YVe"
      },
      "source": [
        "import math\n",
        "import numpy as np\n",
        "import matplotlib.pyplot as plt\n",
        "import pandas as pd\n",
        "import pandas_datareader as pdr\n",
        "import tensorflow as tf"
      ],
      "execution_count": 6,
      "outputs": []
    },
    {
      "cell_type": "markdown",
      "metadata": {
        "id": "ATDLoYCj5nOw"
      },
      "source": [
        "# Importing the Dataset"
      ]
    },
    {
      "cell_type": "code",
      "metadata": {
        "id": "jXZK-7zh5t7K"
      },
      "source": [
        "df = pd.read_csv(\"https://raw.githubusercontent.com/mwitiderrick/stockprice/master/NSE-TATAGLOBAL.csv\")"
      ],
      "execution_count": 7,
      "outputs": []
    },
    {
      "cell_type": "markdown",
      "metadata": {
        "id": "0bBiyzSI6K3W"
      },
      "source": [
        "# Understanding the Dataset"
      ]
    },
    {
      "cell_type": "code",
      "metadata": {
        "colab": {
          "base_uri": "https://localhost:8080/",
          "height": 204
        },
        "id": "8R9X4JCj6P3T",
        "outputId": "2587c25e-5dde-4815-cf90-129d8a4ca970"
      },
      "source": [
        "df.head()"
      ],
      "execution_count": 8,
      "outputs": [
        {
          "output_type": "execute_result",
          "data": {
            "text/html": [
              "<div>\n",
              "<style scoped>\n",
              "    .dataframe tbody tr th:only-of-type {\n",
              "        vertical-align: middle;\n",
              "    }\n",
              "\n",
              "    .dataframe tbody tr th {\n",
              "        vertical-align: top;\n",
              "    }\n",
              "\n",
              "    .dataframe thead th {\n",
              "        text-align: right;\n",
              "    }\n",
              "</style>\n",
              "<table border=\"1\" class=\"dataframe\">\n",
              "  <thead>\n",
              "    <tr style=\"text-align: right;\">\n",
              "      <th></th>\n",
              "      <th>Date</th>\n",
              "      <th>Open</th>\n",
              "      <th>High</th>\n",
              "      <th>Low</th>\n",
              "      <th>Last</th>\n",
              "      <th>Close</th>\n",
              "      <th>Total Trade Quantity</th>\n",
              "      <th>Turnover (Lacs)</th>\n",
              "    </tr>\n",
              "  </thead>\n",
              "  <tbody>\n",
              "    <tr>\n",
              "      <th>0</th>\n",
              "      <td>2018-09-28</td>\n",
              "      <td>234.05</td>\n",
              "      <td>235.95</td>\n",
              "      <td>230.20</td>\n",
              "      <td>233.50</td>\n",
              "      <td>233.75</td>\n",
              "      <td>3069914</td>\n",
              "      <td>7162.35</td>\n",
              "    </tr>\n",
              "    <tr>\n",
              "      <th>1</th>\n",
              "      <td>2018-09-27</td>\n",
              "      <td>234.55</td>\n",
              "      <td>236.80</td>\n",
              "      <td>231.10</td>\n",
              "      <td>233.80</td>\n",
              "      <td>233.25</td>\n",
              "      <td>5082859</td>\n",
              "      <td>11859.95</td>\n",
              "    </tr>\n",
              "    <tr>\n",
              "      <th>2</th>\n",
              "      <td>2018-09-26</td>\n",
              "      <td>240.00</td>\n",
              "      <td>240.00</td>\n",
              "      <td>232.50</td>\n",
              "      <td>235.00</td>\n",
              "      <td>234.25</td>\n",
              "      <td>2240909</td>\n",
              "      <td>5248.60</td>\n",
              "    </tr>\n",
              "    <tr>\n",
              "      <th>3</th>\n",
              "      <td>2018-09-25</td>\n",
              "      <td>233.30</td>\n",
              "      <td>236.75</td>\n",
              "      <td>232.00</td>\n",
              "      <td>236.25</td>\n",
              "      <td>236.10</td>\n",
              "      <td>2349368</td>\n",
              "      <td>5503.90</td>\n",
              "    </tr>\n",
              "    <tr>\n",
              "      <th>4</th>\n",
              "      <td>2018-09-24</td>\n",
              "      <td>233.55</td>\n",
              "      <td>239.20</td>\n",
              "      <td>230.75</td>\n",
              "      <td>234.00</td>\n",
              "      <td>233.30</td>\n",
              "      <td>3423509</td>\n",
              "      <td>7999.55</td>\n",
              "    </tr>\n",
              "  </tbody>\n",
              "</table>\n",
              "</div>"
            ],
            "text/plain": [
              "         Date    Open    High  ...   Close  Total Trade Quantity  Turnover (Lacs)\n",
              "0  2018-09-28  234.05  235.95  ...  233.75               3069914          7162.35\n",
              "1  2018-09-27  234.55  236.80  ...  233.25               5082859         11859.95\n",
              "2  2018-09-26  240.00  240.00  ...  234.25               2240909          5248.60\n",
              "3  2018-09-25  233.30  236.75  ...  236.10               2349368          5503.90\n",
              "4  2018-09-24  233.55  239.20  ...  233.30               3423509          7999.55\n",
              "\n",
              "[5 rows x 8 columns]"
            ]
          },
          "metadata": {},
          "execution_count": 8
        }
      ]
    },
    {
      "cell_type": "code",
      "metadata": {
        "colab": {
          "base_uri": "https://localhost:8080/",
          "height": 204
        },
        "id": "lvfNeRb76UJ_",
        "outputId": "27080179-fa61-4ecb-eb08-b857a2c57c80"
      },
      "source": [
        "df.tail()"
      ],
      "execution_count": 9,
      "outputs": [
        {
          "output_type": "execute_result",
          "data": {
            "text/html": [
              "<div>\n",
              "<style scoped>\n",
              "    .dataframe tbody tr th:only-of-type {\n",
              "        vertical-align: middle;\n",
              "    }\n",
              "\n",
              "    .dataframe tbody tr th {\n",
              "        vertical-align: top;\n",
              "    }\n",
              "\n",
              "    .dataframe thead th {\n",
              "        text-align: right;\n",
              "    }\n",
              "</style>\n",
              "<table border=\"1\" class=\"dataframe\">\n",
              "  <thead>\n",
              "    <tr style=\"text-align: right;\">\n",
              "      <th></th>\n",
              "      <th>Date</th>\n",
              "      <th>Open</th>\n",
              "      <th>High</th>\n",
              "      <th>Low</th>\n",
              "      <th>Last</th>\n",
              "      <th>Close</th>\n",
              "      <th>Total Trade Quantity</th>\n",
              "      <th>Turnover (Lacs)</th>\n",
              "    </tr>\n",
              "  </thead>\n",
              "  <tbody>\n",
              "    <tr>\n",
              "      <th>2030</th>\n",
              "      <td>2010-07-27</td>\n",
              "      <td>117.6</td>\n",
              "      <td>119.50</td>\n",
              "      <td>112.00</td>\n",
              "      <td>118.80</td>\n",
              "      <td>118.65</td>\n",
              "      <td>586100</td>\n",
              "      <td>694.98</td>\n",
              "    </tr>\n",
              "    <tr>\n",
              "      <th>2031</th>\n",
              "      <td>2010-07-26</td>\n",
              "      <td>120.1</td>\n",
              "      <td>121.00</td>\n",
              "      <td>117.10</td>\n",
              "      <td>117.10</td>\n",
              "      <td>117.60</td>\n",
              "      <td>658440</td>\n",
              "      <td>780.01</td>\n",
              "    </tr>\n",
              "    <tr>\n",
              "      <th>2032</th>\n",
              "      <td>2010-07-23</td>\n",
              "      <td>121.8</td>\n",
              "      <td>121.95</td>\n",
              "      <td>120.25</td>\n",
              "      <td>120.35</td>\n",
              "      <td>120.65</td>\n",
              "      <td>281312</td>\n",
              "      <td>340.31</td>\n",
              "    </tr>\n",
              "    <tr>\n",
              "      <th>2033</th>\n",
              "      <td>2010-07-22</td>\n",
              "      <td>120.3</td>\n",
              "      <td>122.00</td>\n",
              "      <td>120.25</td>\n",
              "      <td>120.75</td>\n",
              "      <td>120.90</td>\n",
              "      <td>293312</td>\n",
              "      <td>355.17</td>\n",
              "    </tr>\n",
              "    <tr>\n",
              "      <th>2034</th>\n",
              "      <td>2010-07-21</td>\n",
              "      <td>122.1</td>\n",
              "      <td>123.00</td>\n",
              "      <td>121.05</td>\n",
              "      <td>121.10</td>\n",
              "      <td>121.55</td>\n",
              "      <td>658666</td>\n",
              "      <td>803.56</td>\n",
              "    </tr>\n",
              "  </tbody>\n",
              "</table>\n",
              "</div>"
            ],
            "text/plain": [
              "            Date   Open    High  ...   Close  Total Trade Quantity  Turnover (Lacs)\n",
              "2030  2010-07-27  117.6  119.50  ...  118.65                586100           694.98\n",
              "2031  2010-07-26  120.1  121.00  ...  117.60                658440           780.01\n",
              "2032  2010-07-23  121.8  121.95  ...  120.65                281312           340.31\n",
              "2033  2010-07-22  120.3  122.00  ...  120.90                293312           355.17\n",
              "2034  2010-07-21  122.1  123.00  ...  121.55                658666           803.56\n",
              "\n",
              "[5 rows x 8 columns]"
            ]
          },
          "metadata": {},
          "execution_count": 9
        }
      ]
    },
    {
      "cell_type": "markdown",
      "metadata": {
        "id": "HfHseRtN6ff7"
      },
      "source": [
        "# Sorting the dataset according to date"
      ]
    },
    {
      "cell_type": "code",
      "metadata": {
        "id": "JAE-G5J36ilh"
      },
      "source": [
        "df = df.sort_values(by=['Date'])"
      ],
      "execution_count": 10,
      "outputs": []
    },
    {
      "cell_type": "code",
      "metadata": {
        "colab": {
          "base_uri": "https://localhost:8080/",
          "height": 204
        },
        "id": "-tvXNB2M6uG7",
        "outputId": "275e6053-2b4f-4566-8135-452f84f89bb5"
      },
      "source": [
        "df.head()"
      ],
      "execution_count": 11,
      "outputs": [
        {
          "output_type": "execute_result",
          "data": {
            "text/html": [
              "<div>\n",
              "<style scoped>\n",
              "    .dataframe tbody tr th:only-of-type {\n",
              "        vertical-align: middle;\n",
              "    }\n",
              "\n",
              "    .dataframe tbody tr th {\n",
              "        vertical-align: top;\n",
              "    }\n",
              "\n",
              "    .dataframe thead th {\n",
              "        text-align: right;\n",
              "    }\n",
              "</style>\n",
              "<table border=\"1\" class=\"dataframe\">\n",
              "  <thead>\n",
              "    <tr style=\"text-align: right;\">\n",
              "      <th></th>\n",
              "      <th>Date</th>\n",
              "      <th>Open</th>\n",
              "      <th>High</th>\n",
              "      <th>Low</th>\n",
              "      <th>Last</th>\n",
              "      <th>Close</th>\n",
              "      <th>Total Trade Quantity</th>\n",
              "      <th>Turnover (Lacs)</th>\n",
              "    </tr>\n",
              "  </thead>\n",
              "  <tbody>\n",
              "    <tr>\n",
              "      <th>2034</th>\n",
              "      <td>2010-07-21</td>\n",
              "      <td>122.1</td>\n",
              "      <td>123.00</td>\n",
              "      <td>121.05</td>\n",
              "      <td>121.10</td>\n",
              "      <td>121.55</td>\n",
              "      <td>658666</td>\n",
              "      <td>803.56</td>\n",
              "    </tr>\n",
              "    <tr>\n",
              "      <th>2033</th>\n",
              "      <td>2010-07-22</td>\n",
              "      <td>120.3</td>\n",
              "      <td>122.00</td>\n",
              "      <td>120.25</td>\n",
              "      <td>120.75</td>\n",
              "      <td>120.90</td>\n",
              "      <td>293312</td>\n",
              "      <td>355.17</td>\n",
              "    </tr>\n",
              "    <tr>\n",
              "      <th>2032</th>\n",
              "      <td>2010-07-23</td>\n",
              "      <td>121.8</td>\n",
              "      <td>121.95</td>\n",
              "      <td>120.25</td>\n",
              "      <td>120.35</td>\n",
              "      <td>120.65</td>\n",
              "      <td>281312</td>\n",
              "      <td>340.31</td>\n",
              "    </tr>\n",
              "    <tr>\n",
              "      <th>2031</th>\n",
              "      <td>2010-07-26</td>\n",
              "      <td>120.1</td>\n",
              "      <td>121.00</td>\n",
              "      <td>117.10</td>\n",
              "      <td>117.10</td>\n",
              "      <td>117.60</td>\n",
              "      <td>658440</td>\n",
              "      <td>780.01</td>\n",
              "    </tr>\n",
              "    <tr>\n",
              "      <th>2030</th>\n",
              "      <td>2010-07-27</td>\n",
              "      <td>117.6</td>\n",
              "      <td>119.50</td>\n",
              "      <td>112.00</td>\n",
              "      <td>118.80</td>\n",
              "      <td>118.65</td>\n",
              "      <td>586100</td>\n",
              "      <td>694.98</td>\n",
              "    </tr>\n",
              "  </tbody>\n",
              "</table>\n",
              "</div>"
            ],
            "text/plain": [
              "            Date   Open    High  ...   Close  Total Trade Quantity  Turnover (Lacs)\n",
              "2034  2010-07-21  122.1  123.00  ...  121.55                658666           803.56\n",
              "2033  2010-07-22  120.3  122.00  ...  120.90                293312           355.17\n",
              "2032  2010-07-23  121.8  121.95  ...  120.65                281312           340.31\n",
              "2031  2010-07-26  120.1  121.00  ...  117.60                658440           780.01\n",
              "2030  2010-07-27  117.6  119.50  ...  118.65                586100           694.98\n",
              "\n",
              "[5 rows x 8 columns]"
            ]
          },
          "metadata": {},
          "execution_count": 11
        }
      ]
    },
    {
      "cell_type": "code",
      "metadata": {
        "colab": {
          "base_uri": "https://localhost:8080/",
          "height": 204
        },
        "id": "2vT97uts6xfb",
        "outputId": "3e6007ac-5a18-4826-e144-23a4dd000c1a"
      },
      "source": [
        "df.tail()"
      ],
      "execution_count": 12,
      "outputs": [
        {
          "output_type": "execute_result",
          "data": {
            "text/html": [
              "<div>\n",
              "<style scoped>\n",
              "    .dataframe tbody tr th:only-of-type {\n",
              "        vertical-align: middle;\n",
              "    }\n",
              "\n",
              "    .dataframe tbody tr th {\n",
              "        vertical-align: top;\n",
              "    }\n",
              "\n",
              "    .dataframe thead th {\n",
              "        text-align: right;\n",
              "    }\n",
              "</style>\n",
              "<table border=\"1\" class=\"dataframe\">\n",
              "  <thead>\n",
              "    <tr style=\"text-align: right;\">\n",
              "      <th></th>\n",
              "      <th>Date</th>\n",
              "      <th>Open</th>\n",
              "      <th>High</th>\n",
              "      <th>Low</th>\n",
              "      <th>Last</th>\n",
              "      <th>Close</th>\n",
              "      <th>Total Trade Quantity</th>\n",
              "      <th>Turnover (Lacs)</th>\n",
              "    </tr>\n",
              "  </thead>\n",
              "  <tbody>\n",
              "    <tr>\n",
              "      <th>4</th>\n",
              "      <td>2018-09-24</td>\n",
              "      <td>233.55</td>\n",
              "      <td>239.20</td>\n",
              "      <td>230.75</td>\n",
              "      <td>234.00</td>\n",
              "      <td>233.30</td>\n",
              "      <td>3423509</td>\n",
              "      <td>7999.55</td>\n",
              "    </tr>\n",
              "    <tr>\n",
              "      <th>3</th>\n",
              "      <td>2018-09-25</td>\n",
              "      <td>233.30</td>\n",
              "      <td>236.75</td>\n",
              "      <td>232.00</td>\n",
              "      <td>236.25</td>\n",
              "      <td>236.10</td>\n",
              "      <td>2349368</td>\n",
              "      <td>5503.90</td>\n",
              "    </tr>\n",
              "    <tr>\n",
              "      <th>2</th>\n",
              "      <td>2018-09-26</td>\n",
              "      <td>240.00</td>\n",
              "      <td>240.00</td>\n",
              "      <td>232.50</td>\n",
              "      <td>235.00</td>\n",
              "      <td>234.25</td>\n",
              "      <td>2240909</td>\n",
              "      <td>5248.60</td>\n",
              "    </tr>\n",
              "    <tr>\n",
              "      <th>1</th>\n",
              "      <td>2018-09-27</td>\n",
              "      <td>234.55</td>\n",
              "      <td>236.80</td>\n",
              "      <td>231.10</td>\n",
              "      <td>233.80</td>\n",
              "      <td>233.25</td>\n",
              "      <td>5082859</td>\n",
              "      <td>11859.95</td>\n",
              "    </tr>\n",
              "    <tr>\n",
              "      <th>0</th>\n",
              "      <td>2018-09-28</td>\n",
              "      <td>234.05</td>\n",
              "      <td>235.95</td>\n",
              "      <td>230.20</td>\n",
              "      <td>233.50</td>\n",
              "      <td>233.75</td>\n",
              "      <td>3069914</td>\n",
              "      <td>7162.35</td>\n",
              "    </tr>\n",
              "  </tbody>\n",
              "</table>\n",
              "</div>"
            ],
            "text/plain": [
              "         Date    Open    High  ...   Close  Total Trade Quantity  Turnover (Lacs)\n",
              "4  2018-09-24  233.55  239.20  ...  233.30               3423509          7999.55\n",
              "3  2018-09-25  233.30  236.75  ...  236.10               2349368          5503.90\n",
              "2  2018-09-26  240.00  240.00  ...  234.25               2240909          5248.60\n",
              "1  2018-09-27  234.55  236.80  ...  233.25               5082859         11859.95\n",
              "0  2018-09-28  234.05  235.95  ...  233.75               3069914          7162.35\n",
              "\n",
              "[5 rows x 8 columns]"
            ]
          },
          "metadata": {},
          "execution_count": 12
        }
      ]
    },
    {
      "cell_type": "markdown",
      "metadata": {
        "id": "VC8tiqyM62rj"
      },
      "source": [
        "# Exploring the dataset"
      ]
    },
    {
      "cell_type": "code",
      "metadata": {
        "colab": {
          "base_uri": "https://localhost:8080/"
        },
        "id": "IWCTnTPAA1f7",
        "outputId": "c3bf9cc7-f85c-4e7e-f022-6aacec439c6b"
      },
      "source": [
        "df.info()"
      ],
      "execution_count": 13,
      "outputs": [
        {
          "output_type": "stream",
          "text": [
            "<class 'pandas.core.frame.DataFrame'>\n",
            "Int64Index: 2035 entries, 2034 to 0\n",
            "Data columns (total 8 columns):\n",
            " #   Column                Non-Null Count  Dtype  \n",
            "---  ------                --------------  -----  \n",
            " 0   Date                  2035 non-null   object \n",
            " 1   Open                  2035 non-null   float64\n",
            " 2   High                  2035 non-null   float64\n",
            " 3   Low                   2035 non-null   float64\n",
            " 4   Last                  2035 non-null   float64\n",
            " 5   Close                 2035 non-null   float64\n",
            " 6   Total Trade Quantity  2035 non-null   int64  \n",
            " 7   Turnover (Lacs)       2035 non-null   float64\n",
            "dtypes: float64(6), int64(1), object(1)\n",
            "memory usage: 143.1+ KB\n"
          ],
          "name": "stdout"
        }
      ]
    },
    {
      "cell_type": "markdown",
      "metadata": {
        "id": "74jpal7aCETc"
      },
      "source": [
        "# Setting the cloumn \"Close\" as the index for prediction"
      ]
    },
    {
      "cell_type": "code",
      "metadata": {
        "id": "TaQZ4pHhCIUW"
      },
      "source": [
        "df = df.reset_index()['Close']"
      ],
      "execution_count": 18,
      "outputs": []
    },
    {
      "cell_type": "markdown",
      "metadata": {
        "id": "AHFV5z-jDvwa"
      },
      "source": [
        "# Plotting the data"
      ]
    },
    {
      "cell_type": "code",
      "metadata": {
        "colab": {
          "base_uri": "https://localhost:8080/",
          "height": 428
        },
        "id": "4DHUSyzkD0ZR",
        "outputId": "a97e59dd-475b-4297-e461-ea92528a6b79"
      },
      "source": [
        "plt.figure(figsize=(16, 7))\n",
        "plt.plot(df)\n",
        "plt.show()"
      ],
      "execution_count": 25,
      "outputs": [
        {
          "output_type": "display_data",
          "data": {
            "image/png": "[encoded data removed]",
            "text/plain": [
              "<Figure size 1152x504 with 1 Axes>"
            ]
          },
          "metadata": {
            "needs_background": "light"
          }
        }
      ]
    },
    {
      "cell_type": "markdown",
      "metadata": {
        "id": "P10J6tE8EPxO"
      },
      "source": [
        "# Applying feature scaling to the data"
      ]
    },
    {
      "cell_type": "code",
      "metadata": {
        "id": "pUPZPA0SEYe4"
      },
      "source": [
        "from sklearn.preprocessing import MinMaxScaler\n",
        "sc = MinMaxScaler(feature_range = (0, 1))\n",
        "df = sc.fit_transform(np.array(df).reshape(-1,1))"
      ],
      "execution_count": 71,
      "outputs": []
    },
    {
      "cell_type": "code",
      "metadata": {
        "colab": {
          "base_uri": "https://localhost:8080/"
        },
        "id": "hJCE7gIXElIP",
        "outputId": "0c400025-f291-41a8-bbbb-3bbef20a7d6a"
      },
      "source": [
        "print(df)"
      ],
      "execution_count": 72,
      "outputs": [
        {
          "output_type": "stream",
          "text": [
            "[[0.16584967]\n",
            " [0.16319444]\n",
            " [0.1621732 ]\n",
            " ...\n",
            " [0.86383617]\n",
            " [0.8698929 ]\n",
            " [0.87586945]]\n"
          ],
          "name": "stdout"
        }
      ]
    },
    {
      "cell_type": "markdown",
      "metadata": {
        "id": "f8lMrvgjEv4U"
      },
      "source": [
        "# Splitting into training and testing set"
      ]
    },
    {
      "cell_type": "markdown",
      "metadata": {
        "id": "XkWL1QhsF8xe"
      },
      "source": [
        "We cant use \"from sklearn.model_selection import train_test_split\" here since we are only having one variable instead of an independent and a dependent one."
      ]
    },
    {
      "cell_type": "code",
      "metadata": {
        "id": "EW-MCdsKE6s7"
      },
      "source": [
        "train_size = int(len(df) * 0.80)\n",
        "test_size = len(df) - train_size\n",
        "trainSet, testSet = df[0:train_size, :], df[train_size:len(df), :1]"
      ],
      "execution_count": 30,
      "outputs": []
    },
    {
      "cell_type": "markdown",
      "metadata": {
        "id": "qToI4RSVHdKf"
      },
      "source": [
        "# Converting the training and testing data to a dataset array"
      ]
    },
    {
      "cell_type": "code",
      "metadata": {
        "id": "lW2v377bHMOo"
      },
      "source": [
        "def datasetGenerator(data, length):\n",
        "\tarr1, arr2 = [], []\n",
        "\tfor i in range(len(data)-length-1):  \n",
        "\t\tarr1.append(data[i:(i + length), 0])\n",
        "\t\tarr2.append(data[i + length, 0])\n",
        "\treturn np.array(arr1), np.array(arr2)"
      ],
      "execution_count": 31,
      "outputs": []
    },
    {
      "cell_type": "code",
      "metadata": {
        "id": "LmAbMMMXHPiE"
      },
      "source": [
        "X_train, Y_train = datasetGenerator(trainSet, 100)\n",
        "X_test, Y_test = datasetGenerator(testSet, 100)"
      ],
      "execution_count": 32,
      "outputs": []
    },
    {
      "cell_type": "code",
      "metadata": {
        "colab": {
          "base_uri": "https://localhost:8080/"
        },
        "id": "wh3MB7NMHWO0",
        "outputId": "341c0517-9d36-4208-b286-c4299f182f90"
      },
      "source": [
        "print(X_train)"
      ],
      "execution_count": 33,
      "outputs": [
        {
          "output_type": "stream",
          "text": [
            "[[0.16584967 0.16319444 0.1621732  ... 0.14011438 0.13848039 0.12479575]\n",
            " [0.16319444 0.1621732  0.14971405 ... 0.13848039 0.12479575 0.12254902]\n",
            " [0.1621732  0.14971405 0.15400327 ... 0.12479575 0.12254902 0.13010621]\n",
            " ...\n",
            " [0.25020425 0.23999183 0.22201797 ... 0.20220588 0.19566993 0.20077614]\n",
            " [0.23999183 0.22201797 0.23080065 ... 0.19566993 0.20077614 0.23161765]\n",
            " [0.22201797 0.23080065 0.22896242 ... 0.20077614 0.23161765 0.24877451]]\n"
          ],
          "name": "stdout"
        }
      ]
    },
    {
      "cell_type": "code",
      "metadata": {
        "colab": {
          "base_uri": "https://localhost:8080/"
        },
        "id": "1A_xP76hHs7y",
        "outputId": "dbaad7bb-ceca-4e23-a0d6-419f4eac9c87"
      },
      "source": [
        "print(Y_train)"
      ],
      "execution_count": 34,
      "outputs": [
        {
          "output_type": "stream",
          "text": [
            "[0.12254902 0.13010621 0.13541667 ... 0.23161765 0.24877451 0.25245098]\n"
          ],
          "name": "stdout"
        }
      ]
    },
    {
      "cell_type": "code",
      "metadata": {
        "colab": {
          "base_uri": "https://localhost:8080/"
        },
        "id": "10umUV4XHv2W",
        "outputId": "5d38c40a-5808-473a-f220-29fecdbff5df"
      },
      "source": [
        "print(X_test)"
      ],
      "execution_count": 35,
      "outputs": [
        {
          "output_type": "stream",
          "text": [
            "[[0.26633987 0.25714869 0.25735294 ... 0.28860294 0.28227124 0.30718954]\n",
            " [0.25714869 0.25735294 0.24918301 ... 0.28227124 0.30718954 0.29575163]\n",
            " [0.25735294 0.24918301 0.24611928 ... 0.30718954 0.29575163 0.31372549]\n",
            " ...\n",
            " [0.86519608 0.84027778 0.84497549 ... 0.62888072 0.62765523 0.62234477]\n",
            " [0.84027778 0.84497549 0.87111928 ... 0.62765523 0.62234477 0.63378268]\n",
            " [0.84497549 0.87111928 0.85273693 ... 0.62234477 0.63378268 0.62622549]]\n"
          ],
          "name": "stdout"
        }
      ]
    },
    {
      "cell_type": "code",
      "metadata": {
        "colab": {
          "base_uri": "https://localhost:8080/"
        },
        "id": "k-Tx0aw1HxqY",
        "outputId": "e86edc23-61d8-4348-c4a4-0bbbce891eb9"
      },
      "source": [
        "print(Y_test)"
      ],
      "execution_count": 36,
      "outputs": [
        {
          "output_type": "stream",
          "text": [
            "[0.29575163 0.31372549 0.3496732  0.36172386 0.37908497 0.38582516\n",
            " 0.3809232  0.39236111 0.37908497 0.38480392 0.3690768  0.37275327\n",
            " 0.36376634 0.36846405 0.37275327 0.35723039 0.36029412 0.3619281\n",
            " 0.35355392 0.34375    0.3500817  0.34926471 0.36560458 0.34742647\n",
            " 0.3314951  0.3065768  0.34007353 0.3995098  0.46119281 0.44791667\n",
            " 0.46343954 0.47058824 0.44485294 0.47222222 0.4628268  0.45894608\n",
            " 0.44689542 0.47426471 0.47814542 0.47651144 0.45894608 0.47283497\n",
            " 0.51062092 0.50980392 0.51450163 0.52410131 0.53553922 0.51613562\n",
            " 0.53553922 0.52941176 0.54064542 0.55249183 0.54227941 0.53615196\n",
            " 0.49101307 0.47263072 0.50531046 0.48059641 0.49918301 0.51000817\n",
            " 0.5126634  0.50653595 0.5249183  0.52553105 0.52022059 0.52083333\n",
            " 0.52471405 0.53533497 0.52818627 0.52553105 0.52839052 0.51409314\n",
            " 0.50510621 0.49897876 0.52573529 0.50796569 0.52634804 0.57005719\n",
            " 0.59579248 0.59640523 0.59987745 0.59395425 0.58966503 0.62806373\n",
            " 0.58843954 0.58639706 0.65155229 0.63398693 0.62683824 0.67708333\n",
            " 0.6942402  0.69852941 0.7310049  0.79227941 0.78513072 0.78880719\n",
            " 0.79187092 0.80780229 0.80269608 0.84477124 0.81392974 0.84211601\n",
            " 0.82761438 0.80923203 0.8129085  0.79248366 0.82945261 0.84763072\n",
            " 0.8880719  0.84497549 0.83129085 0.8306781  0.84109477 0.85743464\n",
            " 0.89746732 0.89828431 0.89542484 0.90604575 0.91911765 0.91748366\n",
            " 0.92177288 0.96180556 0.94750817 0.94035948 0.94056373 0.94485294\n",
            " 0.94771242 0.96670752 0.95731209 0.95241013 0.94914216 1.\n",
            " 0.98876634 0.96180556 0.9501634  0.91707516 0.92892157 0.93096405\n",
            " 0.92422386 0.9121732  0.9121732  0.90216503 0.91115196 0.85661765\n",
            " 0.84722222 0.79207516 0.78492647 0.75878268 0.81372549 0.81495098\n",
            " 0.80596405 0.83394608 0.82107843 0.80923203 0.79513889 0.76388889\n",
            " 0.74305556 0.75837418 0.74019608 0.77512255 0.78656046 0.79268791\n",
            " 0.79473039 0.79207516 0.79534314 0.78921569 0.76776961 0.78615196\n",
            " 0.76552288 0.79697712 0.8057598  0.80698529 0.81147876 0.78206699\n",
            " 0.73386438 0.73978758 0.74448529 0.72671569 0.72283497 0.74040033\n",
            " 0.74693627 0.72630719 0.80065359 0.79187092 0.77328431 0.78451797\n",
            " 0.78329248 0.80412582 0.79473039 0.7879902  0.7879902  0.79473039\n",
            " 0.81168301 0.81699346 0.82986111 0.83843954 0.83884804 0.82781863\n",
            " 0.82598039 0.85028595 0.85886438 0.86254085 0.88480392 0.86519608\n",
            " 0.84027778 0.84497549 0.87111928 0.85273693 0.86213235 0.83455882\n",
            " 0.84375    0.71466503 0.66053922 0.65420752 0.68035131 0.6689134\n",
            " 0.66421569 0.67892157 0.69138072 0.70894608 0.72263072 0.73406863\n",
            " 0.72120098 0.74979575 0.7689951  0.74468954 0.7120098  0.74673203\n",
            " 0.75490196 0.76041667 0.75980392 0.74652778 0.76245915 0.77062908\n",
            " 0.80412582 0.78104575 0.79411765 0.76021242 0.73488562 0.72406046\n",
            " 0.73999183 0.74979575 0.76143791 0.75428922 0.74754902 0.76960784\n",
            " 0.7495915  0.81719771 0.80208333 0.77736928 0.75714869 0.79370915\n",
            " 0.79166667 0.77144608 0.75265523 0.72691993 0.6629902  0.68198529\n",
            " 0.64419935 0.62152778 0.6439951  0.66319444 0.67544935 0.63705065\n",
            " 0.64603758 0.65890523 0.65870098 0.67790033 0.63194444 0.63112745\n",
            " 0.62785948 0.64767157 0.63991013 0.63480392 0.63868464 0.62336601\n",
            " 0.62745098 0.63970588 0.64705882 0.66196895 0.67075163 0.65196078\n",
            " 0.63112745 0.61294935 0.6376634  0.62254902 0.62745098 0.63337418\n",
            " 0.62642974 0.63623366 0.58312908 0.57781863 0.57230392 0.58006536\n",
            " 0.57618464 0.55167484 0.57883987 0.625      0.63582516 0.62949346\n",
            " 0.62888072 0.62765523 0.62234477 0.63378268 0.62622549 0.62214052]\n"
          ],
          "name": "stdout"
        }
      ]
    },
    {
      "cell_type": "markdown",
      "metadata": {
        "id": "SZSncc1RJkfp"
      },
      "source": [
        "# Changing column order of inputs to [Samples, Length, Features]"
      ]
    },
    {
      "cell_type": "code",
      "metadata": {
        "id": "3C49RZkWJ91r"
      },
      "source": [
        "X_train = X_train.reshape(X_train.shape[0], X_train.shape[1], 1)\n",
        "X_test = X_test.reshape(X_test.shape[0], X_test.shape[1], 1)"
      ],
      "execution_count": 37,
      "outputs": []
    },
    {
      "cell_type": "markdown",
      "metadata": {
        "id": "n2wcF6EiKCAf"
      },
      "source": [
        "# Generating the LSTM model"
      ]
    },
    {
      "cell_type": "code",
      "metadata": {
        "id": "P2LGUlybKHes"
      },
      "source": [
        "from tensorflow.keras.models import Sequential\n",
        "from tensorflow.keras.layers import Dense\n",
        "from tensorflow.keras.layers import LSTM\n",
        "\n",
        "model = Sequential()\n",
        "model.add(LSTM(50, return_sequences = True, input_shape = (100, 1)))\n",
        "model.add(LSTM(50, return_sequences = True))\n",
        "model.add(LSTM(50))\n",
        "model.add(Dense(1))\n",
        "model.compile(loss = 'mean_squared_error', optimizer = 'adam')"
      ],
      "execution_count": 39,
      "outputs": []
    },
    {
      "cell_type": "code",
      "metadata": {
        "colab": {
          "base_uri": "https://localhost:8080/"
        },
        "id": "5wbducrSKPpW",
        "outputId": "2f091927-1e99-4ace-c72a-c7d232a19047"
      },
      "source": [
        "model.fit(X_train, Y_train, validation_data = (X_test,Y_test), epochs = 100, batch_size = 64, verbose = 1)"
      ],
      "execution_count": 40,
      "outputs": [
        {
          "output_type": "stream",
          "text": [
            "Epoch 1/100\n",
            "24/24 [==============================] - 10s 224ms/step - loss: 0.0096 - val_loss: 0.0317\n",
            "Epoch 2/100\n",
            "24/24 [==============================] - 4s 175ms/step - loss: 0.0017 - val_loss: 0.0071\n",
            "Epoch 3/100\n",
            "24/24 [==============================] - 4s 179ms/step - loss: 9.1166e-04 - val_loss: 0.0043\n",
            "Epoch 4/100\n",
            "24/24 [==============================] - 4s 177ms/step - loss: 8.3017e-04 - val_loss: 0.0050\n",
            "Epoch 5/100\n",
            "24/24 [==============================] - 4s 179ms/step - loss: 8.2446e-04 - val_loss: 0.0047\n",
            "Epoch 6/100\n",
            "24/24 [==============================] - 4s 177ms/step - loss: 8.0487e-04 - val_loss: 0.0044\n",
            "Epoch 7/100\n",
            "24/24 [==============================] - 4s 175ms/step - loss: 7.3472e-04 - val_loss: 0.0043\n",
            "Epoch 8/100\n",
            "24/24 [==============================] - 4s 179ms/step - loss: 7.3308e-04 - val_loss: 0.0037\n",
            "Epoch 9/100\n",
            "24/24 [==============================] - 4s 182ms/step - loss: 7.0512e-04 - val_loss: 0.0050\n",
            "Epoch 10/100\n",
            "24/24 [==============================] - 4s 178ms/step - loss: 6.5670e-04 - val_loss: 0.0034\n",
            "Epoch 11/100\n",
            "24/24 [==============================] - 4s 177ms/step - loss: 6.4877e-04 - val_loss: 0.0052\n",
            "Epoch 12/100\n",
            "24/24 [==============================] - 4s 178ms/step - loss: 6.3219e-04 - val_loss: 0.0059\n",
            "Epoch 13/100\n",
            "24/24 [==============================] - 4s 181ms/step - loss: 5.8383e-04 - val_loss: 0.0086\n",
            "Epoch 14/100\n",
            "24/24 [==============================] - 4s 181ms/step - loss: 5.7983e-04 - val_loss: 0.0074\n",
            "Epoch 15/100\n",
            "24/24 [==============================] - 4s 180ms/step - loss: 5.4729e-04 - val_loss: 0.0075\n",
            "Epoch 16/100\n",
            "24/24 [==============================] - 4s 182ms/step - loss: 5.2605e-04 - val_loss: 0.0083\n",
            "Epoch 17/100\n",
            "24/24 [==============================] - 4s 180ms/step - loss: 5.4171e-04 - val_loss: 0.0133\n",
            "Epoch 18/100\n",
            "24/24 [==============================] - 4s 181ms/step - loss: 5.2840e-04 - val_loss: 0.0082\n",
            "Epoch 19/100\n",
            "24/24 [==============================] - 4s 180ms/step - loss: 4.8551e-04 - val_loss: 0.0103\n",
            "Epoch 20/100\n",
            "24/24 [==============================] - 4s 179ms/step - loss: 4.9538e-04 - val_loss: 0.0095\n",
            "Epoch 21/100\n",
            "24/24 [==============================] - 4s 179ms/step - loss: 4.4405e-04 - val_loss: 0.0095\n",
            "Epoch 22/100\n",
            "24/24 [==============================] - 4s 176ms/step - loss: 4.2739e-04 - val_loss: 0.0104\n",
            "Epoch 23/100\n",
            "24/24 [==============================] - 4s 175ms/step - loss: 4.2646e-04 - val_loss: 0.0071\n",
            "Epoch 24/100\n",
            "24/24 [==============================] - 4s 181ms/step - loss: 4.0768e-04 - val_loss: 0.0109\n",
            "Epoch 25/100\n",
            "24/24 [==============================] - 4s 182ms/step - loss: 3.9819e-04 - val_loss: 0.0090\n",
            "Epoch 26/100\n",
            "24/24 [==============================] - 4s 177ms/step - loss: 3.8152e-04 - val_loss: 0.0090\n",
            "Epoch 27/100\n",
            "24/24 [==============================] - 4s 179ms/step - loss: 3.8396e-04 - val_loss: 0.0080\n",
            "Epoch 28/100\n",
            "24/24 [==============================] - 4s 181ms/step - loss: 3.5973e-04 - val_loss: 0.0045\n",
            "Epoch 29/100\n",
            "24/24 [==============================] - 4s 178ms/step - loss: 3.3678e-04 - val_loss: 0.0078\n",
            "Epoch 30/100\n",
            "24/24 [==============================] - 4s 179ms/step - loss: 3.4459e-04 - val_loss: 0.0032\n",
            "Epoch 31/100\n",
            "24/24 [==============================] - 4s 182ms/step - loss: 3.7649e-04 - val_loss: 0.0084\n",
            "Epoch 32/100\n",
            "24/24 [==============================] - 4s 179ms/step - loss: 3.1214e-04 - val_loss: 0.0039\n",
            "Epoch 33/100\n",
            "24/24 [==============================] - 4s 179ms/step - loss: 2.8909e-04 - val_loss: 0.0058\n",
            "Epoch 34/100\n",
            "24/24 [==============================] - 4s 176ms/step - loss: 2.9614e-04 - val_loss: 0.0023\n",
            "Epoch 35/100\n",
            "24/24 [==============================] - 4s 181ms/step - loss: 2.6548e-04 - val_loss: 0.0037\n",
            "Epoch 36/100\n",
            "24/24 [==============================] - 4s 181ms/step - loss: 2.8209e-04 - val_loss: 0.0013\n",
            "Epoch 37/100\n",
            "24/24 [==============================] - 4s 177ms/step - loss: 2.8464e-04 - val_loss: 0.0050\n",
            "Epoch 38/100\n",
            "24/24 [==============================] - 4s 182ms/step - loss: 2.6750e-04 - val_loss: 0.0035\n",
            "Epoch 39/100\n",
            "24/24 [==============================] - 4s 179ms/step - loss: 2.4510e-04 - val_loss: 0.0022\n",
            "Epoch 40/100\n",
            "24/24 [==============================] - 4s 184ms/step - loss: 2.3854e-04 - val_loss: 0.0021\n",
            "Epoch 41/100\n",
            "24/24 [==============================] - 4s 184ms/step - loss: 2.3065e-04 - val_loss: 0.0012\n",
            "Epoch 42/100\n",
            "24/24 [==============================] - 4s 183ms/step - loss: 2.1601e-04 - val_loss: 0.0016\n",
            "Epoch 43/100\n",
            "24/24 [==============================] - 4s 182ms/step - loss: 2.1941e-04 - val_loss: 9.4372e-04\n",
            "Epoch 44/100\n",
            "24/24 [==============================] - 4s 183ms/step - loss: 2.2197e-04 - val_loss: 0.0014\n",
            "Epoch 45/100\n",
            "24/24 [==============================] - 4s 178ms/step - loss: 2.0647e-04 - val_loss: 8.5911e-04\n",
            "Epoch 46/100\n",
            "24/24 [==============================] - 4s 179ms/step - loss: 2.0354e-04 - val_loss: 0.0029\n",
            "Epoch 47/100\n",
            "24/24 [==============================] - 4s 179ms/step - loss: 2.0996e-04 - val_loss: 9.0972e-04\n",
            "Epoch 48/100\n",
            "24/24 [==============================] - 4s 184ms/step - loss: 1.9829e-04 - val_loss: 0.0011\n",
            "Epoch 49/100\n",
            "24/24 [==============================] - 4s 180ms/step - loss: 1.9109e-04 - val_loss: 0.0022\n",
            "Epoch 50/100\n",
            "24/24 [==============================] - 4s 178ms/step - loss: 1.8872e-04 - val_loss: 0.0011\n",
            "Epoch 51/100\n",
            "24/24 [==============================] - 4s 178ms/step - loss: 1.7049e-04 - val_loss: 6.6786e-04\n",
            "Epoch 52/100\n",
            "24/24 [==============================] - 4s 179ms/step - loss: 1.9808e-04 - val_loss: 5.5928e-04\n",
            "Epoch 53/100\n",
            "24/24 [==============================] - 4s 179ms/step - loss: 1.6831e-04 - val_loss: 9.9662e-04\n",
            "Epoch 54/100\n",
            "24/24 [==============================] - 4s 180ms/step - loss: 1.7439e-04 - val_loss: 6.2227e-04\n",
            "Epoch 55/100\n",
            "24/24 [==============================] - 4s 178ms/step - loss: 1.7868e-04 - val_loss: 9.6427e-04\n",
            "Epoch 56/100\n",
            "24/24 [==============================] - 4s 178ms/step - loss: 1.5715e-04 - val_loss: 6.8439e-04\n",
            "Epoch 57/100\n",
            "24/24 [==============================] - 4s 178ms/step - loss: 1.5450e-04 - val_loss: 5.6188e-04\n",
            "Epoch 58/100\n",
            "24/24 [==============================] - 4s 178ms/step - loss: 1.5605e-04 - val_loss: 5.5879e-04\n",
            "Epoch 59/100\n",
            "24/24 [==============================] - 4s 179ms/step - loss: 1.4399e-04 - val_loss: 5.6447e-04\n",
            "Epoch 60/100\n",
            "24/24 [==============================] - 4s 180ms/step - loss: 1.4192e-04 - val_loss: 6.7260e-04\n",
            "Epoch 61/100\n",
            "24/24 [==============================] - 4s 177ms/step - loss: 1.4854e-04 - val_loss: 6.0922e-04\n",
            "Epoch 62/100\n",
            "24/24 [==============================] - 4s 179ms/step - loss: 1.3890e-04 - val_loss: 8.2977e-04\n",
            "Epoch 63/100\n",
            "24/24 [==============================] - 4s 185ms/step - loss: 1.4177e-04 - val_loss: 5.9741e-04\n",
            "Epoch 64/100\n",
            "24/24 [==============================] - 4s 180ms/step - loss: 1.3147e-04 - val_loss: 6.3601e-04\n",
            "Epoch 65/100\n",
            "24/24 [==============================] - 4s 182ms/step - loss: 1.3437e-04 - val_loss: 7.7689e-04\n",
            "Epoch 66/100\n",
            "24/24 [==============================] - 4s 188ms/step - loss: 1.4905e-04 - val_loss: 6.4740e-04\n",
            "Epoch 67/100\n",
            "24/24 [==============================] - 4s 181ms/step - loss: 1.6900e-04 - val_loss: 6.2294e-04\n",
            "Epoch 68/100\n",
            "24/24 [==============================] - 4s 181ms/step - loss: 1.5144e-04 - val_loss: 8.0514e-04\n",
            "Epoch 69/100\n",
            "24/24 [==============================] - 4s 177ms/step - loss: 1.3351e-04 - val_loss: 9.9788e-04\n",
            "Epoch 70/100\n",
            "24/24 [==============================] - 4s 180ms/step - loss: 1.3329e-04 - val_loss: 8.0314e-04\n",
            "Epoch 71/100\n",
            "24/24 [==============================] - 4s 181ms/step - loss: 1.5196e-04 - val_loss: 0.0011\n",
            "Epoch 72/100\n",
            "24/24 [==============================] - 4s 186ms/step - loss: 1.3330e-04 - val_loss: 7.4729e-04\n",
            "Epoch 73/100\n",
            "24/24 [==============================] - 4s 181ms/step - loss: 1.3393e-04 - val_loss: 6.9426e-04\n",
            "Epoch 74/100\n",
            "24/24 [==============================] - 4s 183ms/step - loss: 1.4579e-04 - val_loss: 7.1951e-04\n",
            "Epoch 75/100\n",
            "24/24 [==============================] - 4s 178ms/step - loss: 1.4797e-04 - val_loss: 8.4735e-04\n",
            "Epoch 76/100\n",
            "24/24 [==============================] - 4s 178ms/step - loss: 1.3024e-04 - val_loss: 9.5464e-04\n",
            "Epoch 77/100\n",
            "24/24 [==============================] - 4s 178ms/step - loss: 1.2473e-04 - val_loss: 0.0012\n",
            "Epoch 78/100\n",
            "24/24 [==============================] - 4s 179ms/step - loss: 1.3499e-04 - val_loss: 7.8371e-04\n",
            "Epoch 79/100\n",
            "24/24 [==============================] - 4s 175ms/step - loss: 1.2815e-04 - val_loss: 8.0371e-04\n",
            "Epoch 80/100\n",
            "24/24 [==============================] - 4s 178ms/step - loss: 1.2911e-04 - val_loss: 8.1968e-04\n",
            "Epoch 81/100\n",
            "24/24 [==============================] - 4s 182ms/step - loss: 1.2589e-04 - val_loss: 0.0010\n",
            "Epoch 82/100\n",
            "24/24 [==============================] - 4s 181ms/step - loss: 1.2268e-04 - val_loss: 8.4894e-04\n",
            "Epoch 83/100\n",
            "24/24 [==============================] - 4s 177ms/step - loss: 1.2657e-04 - val_loss: 9.0206e-04\n",
            "Epoch 84/100\n",
            "24/24 [==============================] - 4s 183ms/step - loss: 1.4090e-04 - val_loss: 0.0010\n",
            "Epoch 85/100\n",
            "24/24 [==============================] - 4s 180ms/step - loss: 1.3792e-04 - val_loss: 9.1666e-04\n",
            "Epoch 86/100\n",
            "24/24 [==============================] - 4s 179ms/step - loss: 1.2850e-04 - val_loss: 0.0014\n",
            "Epoch 87/100\n",
            "24/24 [==============================] - 4s 182ms/step - loss: 1.3656e-04 - val_loss: 8.7253e-04\n",
            "Epoch 88/100\n",
            "24/24 [==============================] - 4s 179ms/step - loss: 1.4367e-04 - val_loss: 8.8657e-04\n",
            "Epoch 89/100\n",
            "24/24 [==============================] - 4s 182ms/step - loss: 1.2753e-04 - val_loss: 0.0014\n",
            "Epoch 90/100\n",
            "24/24 [==============================] - 4s 181ms/step - loss: 1.2593e-04 - val_loss: 0.0012\n",
            "Epoch 91/100\n",
            "24/24 [==============================] - 4s 179ms/step - loss: 1.3437e-04 - val_loss: 8.8206e-04\n",
            "Epoch 92/100\n",
            "24/24 [==============================] - 4s 187ms/step - loss: 1.2772e-04 - val_loss: 0.0011\n",
            "Epoch 93/100\n",
            "24/24 [==============================] - 4s 180ms/step - loss: 1.2249e-04 - val_loss: 0.0013\n",
            "Epoch 94/100\n",
            "24/24 [==============================] - 4s 179ms/step - loss: 1.2383e-04 - val_loss: 0.0015\n",
            "Epoch 95/100\n",
            "24/24 [==============================] - 4s 181ms/step - loss: 1.2365e-04 - val_loss: 0.0011\n",
            "Epoch 96/100\n",
            "24/24 [==============================] - 4s 179ms/step - loss: 1.3141e-04 - val_loss: 0.0015\n",
            "Epoch 97/100\n",
            "24/24 [==============================] - 4s 183ms/step - loss: 1.4575e-04 - val_loss: 0.0019\n",
            "Epoch 98/100\n",
            "24/24 [==============================] - 4s 185ms/step - loss: 1.2516e-04 - val_loss: 9.0578e-04\n",
            "Epoch 99/100\n",
            "24/24 [==============================] - 4s 178ms/step - loss: 1.4277e-04 - val_loss: 9.4160e-04\n",
            "Epoch 100/100\n",
            "24/24 [==============================] - 4s 177ms/step - loss: 1.3534e-04 - val_loss: 9.4448e-04\n"
          ],
          "name": "stdout"
        },
        {
          "output_type": "execute_result",
          "data": {
            "text/plain": [
              "<keras.callbacks.History at 0x7fc71d0cdb10>"
            ]
          },
          "metadata": {},
          "execution_count": 40
        }
      ]
    },
    {
      "cell_type": "markdown",
      "metadata": {
        "id": "xN2WRpQVMof5"
      },
      "source": [
        "# Making predictions using test data"
      ]
    },
    {
      "cell_type": "code",
      "metadata": {
        "id": "MFkWDNFQMt47"
      },
      "source": [
        "test_pred = sc.inverse_transform(model.predict(X_test))"
      ],
      "execution_count": 41,
      "outputs": []
    },
    {
      "cell_type": "markdown",
      "metadata": {
        "id": "flNTBz1gM1cq"
      },
      "source": [
        "# Calculating Root Mean Squared Error for test data and test predictions"
      ]
    },
    {
      "cell_type": "code",
      "metadata": {
        "colab": {
          "base_uri": "https://localhost:8080/"
        },
        "id": "zQ5QWKIEM9fy",
        "outputId": "3d2939f1-78ea-4bb2-9047-85a70bcb9b45"
      },
      "source": [
        "from sklearn.metrics import mean_squared_error\n",
        "math.sqrt(mean_squared_error(Y_test, test_pred))"
      ],
      "execution_count": 43,
      "outputs": [
        {
          "output_type": "execute_result",
          "data": {
            "text/plain": [
              "252.31516654076347"
            ]
          },
          "metadata": {},
          "execution_count": 43
        }
      ]
    },
    {
      "cell_type": "markdown",
      "metadata": {
        "id": "xRVge8ZjNGU8"
      },
      "source": [
        "# Plotting the test data predictions"
      ]
    },
    {
      "cell_type": "code",
      "metadata": {
        "id": "jDG3L3UpNLV9"
      },
      "source": [
        "look_back = 100\n",
        "testPredPlot = np.empty_like(df)\n",
        "testPredPlot[:, :] = np.nan\n",
        "testPredPlot[len(X_train) + (look_back*2) + 1:len(df) - 1, :] = test_pred"
      ],
      "execution_count": 45,
      "outputs": []
    },
    {
      "cell_type": "code",
      "metadata": {
        "colab": {
          "base_uri": "https://localhost:8080/",
          "height": 428
        },
        "id": "Kw2kbteYNv8P",
        "outputId": "1216b4f1-4370-4ce1-d02f-9a78506cc84b"
      },
      "source": [
        "plt.figure(figsize=(18, 7))\n",
        "plt.plot(sc.inverse_transform(df), label=\"Actual Values\")\n",
        "plt.plot(testPredPlot, label=\"Predicted Values\")\n",
        "plt.legend(loc=\"upper left\")\n",
        "plt.show()"
      ],
      "execution_count": 50,
      "outputs": [
        {
          "output_type": "display_data",
          "data": {
            "image/png": "[encoded data removed]",
            "text/plain": [
              "<Figure size 1296x504 with 1 Axes>"
            ]
          },
          "metadata": {
            "needs_background": "light"
          }
        }
      ]
    },
    {
      "cell_type": "markdown",
      "metadata": {
        "id": "dP_HkY28PpXl"
      },
      "source": [
        "# Using last 100 data values from test data to make prediction for the next 30 days"
      ]
    },
    {
      "cell_type": "code",
      "metadata": {
        "colab": {
          "base_uri": "https://localhost:8080/"
        },
        "id": "9dK13HmXP0uG",
        "outputId": "a404d071-ea2a-4180-94ec-436647ccdf54"
      },
      "source": [
        "len(test_data)"
      ],
      "execution_count": 51,
      "outputs": [
        {
          "output_type": "execute_result",
          "data": {
            "text/plain": [
              "407"
            ]
          },
          "metadata": {},
          "execution_count": 51
        }
      ]
    },
    {
      "cell_type": "code",
      "metadata": {
        "colab": {
          "base_uri": "https://localhost:8080/"
        },
        "id": "iiGwXUvCP248",
        "outputId": "d800a4e6-af05-4f9e-abee-272cd4ffc35a"
      },
      "source": [
        "pred_input = test_data[307:].reshape(1,-1)\n",
        "pred_input.shape"
      ],
      "execution_count": 52,
      "outputs": [
        {
          "output_type": "execute_result",
          "data": {
            "text/plain": [
              "(1, 100)"
            ]
          },
          "metadata": {},
          "execution_count": 52
        }
      ]
    },
    {
      "cell_type": "code",
      "metadata": {
        "id": "hblILuA2QHmQ"
      },
      "source": [
        "tmp = list(pred_input)\n",
        "tmp = tmp[0].tolist()"
      ],
      "execution_count": 56,
      "outputs": []
    },
    {
      "cell_type": "code",
      "metadata": {
        "colab": {
          "base_uri": "https://localhost:8080/"
        },
        "id": "-eTABYmTQM3G",
        "outputId": "848c35c5-5277-4e31-af49-61c4c54703a6"
      },
      "source": [
        "print(tmp)"
      ],
      "execution_count": 57,
      "outputs": [
        {
          "output_type": "stream",
          "text": [
            "[0.8527369281045751, 0.8621323529411764, 0.8345588235294117, 0.84375, 0.7146650326797386, 0.6605392156862745, 0.6542075163398693, 0.6803513071895424, 0.6689133986928104, 0.6642156862745099, 0.678921568627451, 0.6913807189542482, 0.7089460784313726, 0.7226307189542485, 0.7340686274509802, 0.7212009803921569, 0.749795751633987, 0.7689950980392157, 0.7446895424836601, 0.7120098039215685, 0.7467320261437909, 0.7549019607843137, 0.7604166666666667, 0.7598039215686274, 0.7465277777777777, 0.7624591503267975, 0.7706290849673203, 0.8041258169934642, 0.7810457516339868, 0.7941176470588236, 0.7602124183006536, 0.7348856209150327, 0.7240604575163399, 0.7399918300653596, 0.749795751633987, 0.7614379084967322, 0.7542892156862746, 0.7475490196078431, 0.769607843137255, 0.7495915032679739, 0.8171977124183007, 0.8020833333333335, 0.7773692810457518, 0.7571486928104576, 0.7937091503267975, 0.7916666666666667, 0.7714460784313726, 0.7526552287581698, 0.7269199346405228, 0.6629901960784313, 0.6819852941176472, 0.6441993464052288, 0.6215277777777778, 0.6439950980392156, 0.6631944444444445, 0.6754493464052289, 0.6370506535947713, 0.6460375816993464, 0.6589052287581699, 0.6587009803921569, 0.6779003267973858, 0.6319444444444445, 0.6311274509803921, 0.627859477124183, 0.647671568627451, 0.6399101307189542, 0.6348039215686274, 0.6386846405228759, 0.6233660130718954, 0.627450980392157, 0.6397058823529412, 0.6470588235294118, 0.661968954248366, 0.6707516339869282, 0.6519607843137255, 0.6311274509803921, 0.6129493464052288, 0.6376633986928105, 0.6225490196078431, 0.627450980392157, 0.6333741830065359, 0.6264297385620916, 0.6362336601307189, 0.5831290849673202, 0.5778186274509804, 0.5723039215686275, 0.5800653594771241, 0.5761846405228758, 0.5516748366013072, 0.5788398692810458, 0.625, 0.6358251633986928, 0.6294934640522877, 0.6288807189542484, 0.6276552287581699, 0.6223447712418301, 0.6337826797385621, 0.6262254901960784, 0.622140522875817, 0.6241830065359477]\n"
          ],
          "name": "stdout"
        }
      ]
    },
    {
      "cell_type": "markdown",
      "metadata": {
        "id": "cTWcHfe2Qbep"
      },
      "source": [
        "# Defining prediction function"
      ]
    },
    {
      "cell_type": "code",
      "metadata": {
        "colab": {
          "base_uri": "https://localhost:8080/"
        },
        "id": "t6UtRntRQeK6",
        "outputId": "72355b14-d4b0-4c24-afa2-57f5a7a3057c"
      },
      "source": [
        "output = []\n",
        "steps=100\n",
        "i = 0\n",
        "while (i < 30):\n",
        "    if(len(tmp) > 100):\n",
        "        pred_input = np.array(tmp[1:])\n",
        "        print(\"Day {} input {}\".format(i, pred_input))\n",
        "        pred_input = pred_input.reshape(1,-1)\n",
        "        pred_input = pred_input.reshape((1, steps, 1))\n",
        "        pred = model.predict(pred_input, verbose = 0)\n",
        "        print(\"Day {} output {}\".format(i, pred))\n",
        "        tmp.extend(pred[0].tolist())\n",
        "        tmp = tmp[1:]\n",
        "        output.extend(pred.tolist())\n",
        "        i = i + 1\n",
        "    else:\n",
        "        pred_input = pred_input.reshape((1, steps, 1))\n",
        "        pred = model.predict(pred_input, verbose = 0)\n",
        "        print(pred[0])\n",
        "        tmp.extend(pred[0].tolist())\n",
        "        print(len(tmp))\n",
        "        output.extend(pred.tolist())\n",
        "        i = i + 1\n",
        "\n",
        "print(output)"
      ],
      "execution_count": 58,
      "outputs": [
        {
          "output_type": "stream",
          "text": [
            "[0.63471705]\n",
            "101\n",
            "Day 1 input [0.86213235 0.83455882 0.84375    0.71466503 0.66053922 0.65420752\n",
            " 0.68035131 0.6689134  0.66421569 0.67892157 0.69138072 0.70894608\n",
            " 0.72263072 0.73406863 0.72120098 0.74979575 0.7689951  0.74468954\n",
            " 0.7120098  0.74673203 0.75490196 0.76041667 0.75980392 0.74652778\n",
            " 0.76245915 0.77062908 0.80412582 0.78104575 0.79411765 0.76021242\n",
            " 0.73488562 0.72406046 0.73999183 0.74979575 0.76143791 0.75428922\n",
            " 0.74754902 0.76960784 0.7495915  0.81719771 0.80208333 0.77736928\n",
            " 0.75714869 0.79370915 0.79166667 0.77144608 0.75265523 0.72691993\n",
            " 0.6629902  0.68198529 0.64419935 0.62152778 0.6439951  0.66319444\n",
            " 0.67544935 0.63705065 0.64603758 0.65890523 0.65870098 0.67790033\n",
            " 0.63194444 0.63112745 0.62785948 0.64767157 0.63991013 0.63480392\n",
            " 0.63868464 0.62336601 0.62745098 0.63970588 0.64705882 0.66196895\n",
            " 0.67075163 0.65196078 0.63112745 0.61294935 0.6376634  0.62254902\n",
            " 0.62745098 0.63337418 0.62642974 0.63623366 0.58312908 0.57781863\n",
            " 0.57230392 0.58006536 0.57618464 0.55167484 0.57883987 0.625\n",
            " 0.63582516 0.62949346 0.62888072 0.62765523 0.62234477 0.63378268\n",
            " 0.62622549 0.62214052 0.62418301 0.63471705]\n",
            "Day 1 output [[0.64949]]\n",
            "Day 2 input [0.83455882 0.84375    0.71466503 0.66053922 0.65420752 0.68035131\n",
            " 0.6689134  0.66421569 0.67892157 0.69138072 0.70894608 0.72263072\n",
            " 0.73406863 0.72120098 0.74979575 0.7689951  0.74468954 0.7120098\n",
            " 0.74673203 0.75490196 0.76041667 0.75980392 0.74652778 0.76245915\n",
            " 0.77062908 0.80412582 0.78104575 0.79411765 0.76021242 0.73488562\n",
            " 0.72406046 0.73999183 0.74979575 0.76143791 0.75428922 0.74754902\n",
            " 0.76960784 0.7495915  0.81719771 0.80208333 0.77736928 0.75714869\n",
            " 0.79370915 0.79166667 0.77144608 0.75265523 0.72691993 0.6629902\n",
            " 0.68198529 0.64419935 0.62152778 0.6439951  0.66319444 0.67544935\n",
            " 0.63705065 0.64603758 0.65890523 0.65870098 0.67790033 0.63194444\n",
            " 0.63112745 0.62785948 0.64767157 0.63991013 0.63480392 0.63868464\n",
            " 0.62336601 0.62745098 0.63970588 0.64705882 0.66196895 0.67075163\n",
            " 0.65196078 0.63112745 0.61294935 0.6376634  0.62254902 0.62745098\n",
            " 0.63337418 0.62642974 0.63623366 0.58312908 0.57781863 0.57230392\n",
            " 0.58006536 0.57618464 0.55167484 0.57883987 0.625      0.63582516\n",
            " 0.62949346 0.62888072 0.62765523 0.62234477 0.63378268 0.62622549\n",
            " 0.62214052 0.62418301 0.63471705 0.64949   ]\n",
            "Day 2 output [[0.6615846]]\n",
            "Day 3 input [0.84375    0.71466503 0.66053922 0.65420752 0.68035131 0.6689134\n",
            " 0.66421569 0.67892157 0.69138072 0.70894608 0.72263072 0.73406863\n",
            " 0.72120098 0.74979575 0.7689951  0.74468954 0.7120098  0.74673203\n",
            " 0.75490196 0.76041667 0.75980392 0.74652778 0.76245915 0.77062908\n",
            " 0.80412582 0.78104575 0.79411765 0.76021242 0.73488562 0.72406046\n",
            " 0.73999183 0.74979575 0.76143791 0.75428922 0.74754902 0.76960784\n",
            " 0.7495915  0.81719771 0.80208333 0.77736928 0.75714869 0.79370915\n",
            " 0.79166667 0.77144608 0.75265523 0.72691993 0.6629902  0.68198529\n",
            " 0.64419935 0.62152778 0.6439951  0.66319444 0.67544935 0.63705065\n",
            " 0.64603758 0.65890523 0.65870098 0.67790033 0.63194444 0.63112745\n",
            " 0.62785948 0.64767157 0.63991013 0.63480392 0.63868464 0.62336601\n",
            " 0.62745098 0.63970588 0.64705882 0.66196895 0.67075163 0.65196078\n",
            " 0.63112745 0.61294935 0.6376634  0.62254902 0.62745098 0.63337418\n",
            " 0.62642974 0.63623366 0.58312908 0.57781863 0.57230392 0.58006536\n",
            " 0.57618464 0.55167484 0.57883987 0.625      0.63582516 0.62949346\n",
            " 0.62888072 0.62765523 0.62234477 0.63378268 0.62622549 0.62214052\n",
            " 0.62418301 0.63471705 0.64949    0.66158462]\n",
            "Day 3 output [[0.6720399]]\n",
            "Day 4 input [0.71466503 0.66053922 0.65420752 0.68035131 0.6689134  0.66421569\n",
            " 0.67892157 0.69138072 0.70894608 0.72263072 0.73406863 0.72120098\n",
            " 0.74979575 0.7689951  0.74468954 0.7120098  0.74673203 0.75490196\n",
            " 0.76041667 0.75980392 0.74652778 0.76245915 0.77062908 0.80412582\n",
            " 0.78104575 0.79411765 0.76021242 0.73488562 0.72406046 0.73999183\n",
            " 0.74979575 0.76143791 0.75428922 0.74754902 0.76960784 0.7495915\n",
            " 0.81719771 0.80208333 0.77736928 0.75714869 0.79370915 0.79166667\n",
            " 0.77144608 0.75265523 0.72691993 0.6629902  0.68198529 0.64419935\n",
            " 0.62152778 0.6439951  0.66319444 0.67544935 0.63705065 0.64603758\n",
            " 0.65890523 0.65870098 0.67790033 0.63194444 0.63112745 0.62785948\n",
            " 0.64767157 0.63991013 0.63480392 0.63868464 0.62336601 0.62745098\n",
            " 0.63970588 0.64705882 0.66196895 0.67075163 0.65196078 0.63112745\n",
            " 0.61294935 0.6376634  0.62254902 0.62745098 0.63337418 0.62642974\n",
            " 0.63623366 0.58312908 0.57781863 0.57230392 0.58006536 0.57618464\n",
            " 0.55167484 0.57883987 0.625      0.63582516 0.62949346 0.62888072\n",
            " 0.62765523 0.62234477 0.63378268 0.62622549 0.62214052 0.62418301\n",
            " 0.63471705 0.64949    0.66158462 0.67203993]\n",
            "Day 4 output [[0.6819178]]\n",
            "Day 5 input [0.66053922 0.65420752 0.68035131 0.6689134  0.66421569 0.67892157\n",
            " 0.69138072 0.70894608 0.72263072 0.73406863 0.72120098 0.74979575\n",
            " 0.7689951  0.74468954 0.7120098  0.74673203 0.75490196 0.76041667\n",
            " 0.75980392 0.74652778 0.76245915 0.77062908 0.80412582 0.78104575\n",
            " 0.79411765 0.76021242 0.73488562 0.72406046 0.73999183 0.74979575\n",
            " 0.76143791 0.75428922 0.74754902 0.76960784 0.7495915  0.81719771\n",
            " 0.80208333 0.77736928 0.75714869 0.79370915 0.79166667 0.77144608\n",
            " 0.75265523 0.72691993 0.6629902  0.68198529 0.64419935 0.62152778\n",
            " 0.6439951  0.66319444 0.67544935 0.63705065 0.64603758 0.65890523\n",
            " 0.65870098 0.67790033 0.63194444 0.63112745 0.62785948 0.64767157\n",
            " 0.63991013 0.63480392 0.63868464 0.62336601 0.62745098 0.63970588\n",
            " 0.64705882 0.66196895 0.67075163 0.65196078 0.63112745 0.61294935\n",
            " 0.6376634  0.62254902 0.62745098 0.63337418 0.62642974 0.63623366\n",
            " 0.58312908 0.57781863 0.57230392 0.58006536 0.57618464 0.55167484\n",
            " 0.57883987 0.625      0.63582516 0.62949346 0.62888072 0.62765523\n",
            " 0.62234477 0.63378268 0.62622549 0.62214052 0.62418301 0.63471705\n",
            " 0.64949    0.66158462 0.67203993 0.68191779]\n",
            "Day 5 output [[0.692051]]\n",
            "Day 6 input [0.65420752 0.68035131 0.6689134  0.66421569 0.67892157 0.69138072\n",
            " 0.70894608 0.72263072 0.73406863 0.72120098 0.74979575 0.7689951\n",
            " 0.74468954 0.7120098  0.74673203 0.75490196 0.76041667 0.75980392\n",
            " 0.74652778 0.76245915 0.77062908 0.80412582 0.78104575 0.79411765\n",
            " 0.76021242 0.73488562 0.72406046 0.73999183 0.74979575 0.76143791\n",
            " 0.75428922 0.74754902 0.76960784 0.7495915  0.81719771 0.80208333\n",
            " 0.77736928 0.75714869 0.79370915 0.79166667 0.77144608 0.75265523\n",
            " 0.72691993 0.6629902  0.68198529 0.64419935 0.62152778 0.6439951\n",
            " 0.66319444 0.67544935 0.63705065 0.64603758 0.65890523 0.65870098\n",
            " 0.67790033 0.63194444 0.63112745 0.62785948 0.64767157 0.63991013\n",
            " 0.63480392 0.63868464 0.62336601 0.62745098 0.63970588 0.64705882\n",
            " 0.66196895 0.67075163 0.65196078 0.63112745 0.61294935 0.6376634\n",
            " 0.62254902 0.62745098 0.63337418 0.62642974 0.63623366 0.58312908\n",
            " 0.57781863 0.57230392 0.58006536 0.57618464 0.55167484 0.57883987\n",
            " 0.625      0.63582516 0.62949346 0.62888072 0.62765523 0.62234477\n",
            " 0.63378268 0.62622549 0.62214052 0.62418301 0.63471705 0.64949\n",
            " 0.66158462 0.67203993 0.68191779 0.69205099]\n",
            "Day 6 output [[0.70231926]]\n",
            "Day 7 input [0.68035131 0.6689134  0.66421569 0.67892157 0.69138072 0.70894608\n",
            " 0.72263072 0.73406863 0.72120098 0.74979575 0.7689951  0.74468954\n",
            " 0.7120098  0.74673203 0.75490196 0.76041667 0.75980392 0.74652778\n",
            " 0.76245915 0.77062908 0.80412582 0.78104575 0.79411765 0.76021242\n",
            " 0.73488562 0.72406046 0.73999183 0.74979575 0.76143791 0.75428922\n",
            " 0.74754902 0.76960784 0.7495915  0.81719771 0.80208333 0.77736928\n",
            " 0.75714869 0.79370915 0.79166667 0.77144608 0.75265523 0.72691993\n",
            " 0.6629902  0.68198529 0.64419935 0.62152778 0.6439951  0.66319444\n",
            " 0.67544935 0.63705065 0.64603758 0.65890523 0.65870098 0.67790033\n",
            " 0.63194444 0.63112745 0.62785948 0.64767157 0.63991013 0.63480392\n",
            " 0.63868464 0.62336601 0.62745098 0.63970588 0.64705882 0.66196895\n",
            " 0.67075163 0.65196078 0.63112745 0.61294935 0.6376634  0.62254902\n",
            " 0.62745098 0.63337418 0.62642974 0.63623366 0.58312908 0.57781863\n",
            " 0.57230392 0.58006536 0.57618464 0.55167484 0.57883987 0.625\n",
            " 0.63582516 0.62949346 0.62888072 0.62765523 0.62234477 0.63378268\n",
            " 0.62622549 0.62214052 0.62418301 0.63471705 0.64949    0.66158462\n",
            " 0.67203993 0.68191779 0.69205099 0.70231926]\n",
            "Day 7 output [[0.7124529]]\n",
            "Day 8 input [0.6689134  0.66421569 0.67892157 0.69138072 0.70894608 0.72263072\n",
            " 0.73406863 0.72120098 0.74979575 0.7689951  0.74468954 0.7120098\n",
            " 0.74673203 0.75490196 0.76041667 0.75980392 0.74652778 0.76245915\n",
            " 0.77062908 0.80412582 0.78104575 0.79411765 0.76021242 0.73488562\n",
            " 0.72406046 0.73999183 0.74979575 0.76143791 0.75428922 0.74754902\n",
            " 0.76960784 0.7495915  0.81719771 0.80208333 0.77736928 0.75714869\n",
            " 0.79370915 0.79166667 0.77144608 0.75265523 0.72691993 0.6629902\n",
            " 0.68198529 0.64419935 0.62152778 0.6439951  0.66319444 0.67544935\n",
            " 0.63705065 0.64603758 0.65890523 0.65870098 0.67790033 0.63194444\n",
            " 0.63112745 0.62785948 0.64767157 0.63991013 0.63480392 0.63868464\n",
            " 0.62336601 0.62745098 0.63970588 0.64705882 0.66196895 0.67075163\n",
            " 0.65196078 0.63112745 0.61294935 0.6376634  0.62254902 0.62745098\n",
            " 0.63337418 0.62642974 0.63623366 0.58312908 0.57781863 0.57230392\n",
            " 0.58006536 0.57618464 0.55167484 0.57883987 0.625      0.63582516\n",
            " 0.62949346 0.62888072 0.62765523 0.62234477 0.63378268 0.62622549\n",
            " 0.62214052 0.62418301 0.63471705 0.64949    0.66158462 0.67203993\n",
            " 0.68191779 0.69205099 0.70231926 0.71245289]\n",
            "Day 8 output [[0.7223185]]\n",
            "Day 9 input [0.66421569 0.67892157 0.69138072 0.70894608 0.72263072 0.73406863\n",
            " 0.72120098 0.74979575 0.7689951  0.74468954 0.7120098  0.74673203\n",
            " 0.75490196 0.76041667 0.75980392 0.74652778 0.76245915 0.77062908\n",
            " 0.80412582 0.78104575 0.79411765 0.76021242 0.73488562 0.72406046\n",
            " 0.73999183 0.74979575 0.76143791 0.75428922 0.74754902 0.76960784\n",
            " 0.7495915  0.81719771 0.80208333 0.77736928 0.75714869 0.79370915\n",
            " 0.79166667 0.77144608 0.75265523 0.72691993 0.6629902  0.68198529\n",
            " 0.64419935 0.62152778 0.6439951  0.66319444 0.67544935 0.63705065\n",
            " 0.64603758 0.65890523 0.65870098 0.67790033 0.63194444 0.63112745\n",
            " 0.62785948 0.64767157 0.63991013 0.63480392 0.63868464 0.62336601\n",
            " 0.62745098 0.63970588 0.64705882 0.66196895 0.67075163 0.65196078\n",
            " 0.63112745 0.61294935 0.6376634  0.62254902 0.62745098 0.63337418\n",
            " 0.62642974 0.63623366 0.58312908 0.57781863 0.57230392 0.58006536\n",
            " 0.57618464 0.55167484 0.57883987 0.625      0.63582516 0.62949346\n",
            " 0.62888072 0.62765523 0.62234477 0.63378268 0.62622549 0.62214052\n",
            " 0.62418301 0.63471705 0.64949    0.66158462 0.67203993 0.68191779\n",
            " 0.69205099 0.70231926 0.71245289 0.72231847]\n",
            "Day 9 output [[0.73189133]]\n",
            "Day 10 input [0.67892157 0.69138072 0.70894608 0.72263072 0.73406863 0.72120098\n",
            " 0.74979575 0.7689951  0.74468954 0.7120098  0.74673203 0.75490196\n",
            " 0.76041667 0.75980392 0.74652778 0.76245915 0.77062908 0.80412582\n",
            " 0.78104575 0.79411765 0.76021242 0.73488562 0.72406046 0.73999183\n",
            " 0.74979575 0.76143791 0.75428922 0.74754902 0.76960784 0.7495915\n",
            " 0.81719771 0.80208333 0.77736928 0.75714869 0.79370915 0.79166667\n",
            " 0.77144608 0.75265523 0.72691993 0.6629902  0.68198529 0.64419935\n",
            " 0.62152778 0.6439951  0.66319444 0.67544935 0.63705065 0.64603758\n",
            " 0.65890523 0.65870098 0.67790033 0.63194444 0.63112745 0.62785948\n",
            " 0.64767157 0.63991013 0.63480392 0.63868464 0.62336601 0.62745098\n",
            " 0.63970588 0.64705882 0.66196895 0.67075163 0.65196078 0.63112745\n",
            " 0.61294935 0.6376634  0.62254902 0.62745098 0.63337418 0.62642974\n",
            " 0.63623366 0.58312908 0.57781863 0.57230392 0.58006536 0.57618464\n",
            " 0.55167484 0.57883987 0.625      0.63582516 0.62949346 0.62888072\n",
            " 0.62765523 0.62234477 0.63378268 0.62622549 0.62214052 0.62418301\n",
            " 0.63471705 0.64949    0.66158462 0.67203993 0.68191779 0.69205099\n",
            " 0.70231926 0.71245289 0.72231847 0.73189133]\n",
            "Day 10 output [[0.7411686]]\n",
            "Day 11 input [0.69138072 0.70894608 0.72263072 0.73406863 0.72120098 0.74979575\n",
            " 0.7689951  0.74468954 0.7120098  0.74673203 0.75490196 0.76041667\n",
            " 0.75980392 0.74652778 0.76245915 0.77062908 0.80412582 0.78104575\n",
            " 0.79411765 0.76021242 0.73488562 0.72406046 0.73999183 0.74979575\n",
            " 0.76143791 0.75428922 0.74754902 0.76960784 0.7495915  0.81719771\n",
            " 0.80208333 0.77736928 0.75714869 0.79370915 0.79166667 0.77144608\n",
            " 0.75265523 0.72691993 0.6629902  0.68198529 0.64419935 0.62152778\n",
            " 0.6439951  0.66319444 0.67544935 0.63705065 0.64603758 0.65890523\n",
            " 0.65870098 0.67790033 0.63194444 0.63112745 0.62785948 0.64767157\n",
            " 0.63991013 0.63480392 0.63868464 0.62336601 0.62745098 0.63970588\n",
            " 0.64705882 0.66196895 0.67075163 0.65196078 0.63112745 0.61294935\n",
            " 0.6376634  0.62254902 0.62745098 0.63337418 0.62642974 0.63623366\n",
            " 0.58312908 0.57781863 0.57230392 0.58006536 0.57618464 0.55167484\n",
            " 0.57883987 0.625      0.63582516 0.62949346 0.62888072 0.62765523\n",
            " 0.62234477 0.63378268 0.62622549 0.62214052 0.62418301 0.63471705\n",
            " 0.64949    0.66158462 0.67203993 0.68191779 0.69205099 0.70231926\n",
            " 0.71245289 0.72231847 0.73189133 0.74116862]\n",
            "Day 11 output [[0.7501415]]\n",
            "Day 12 input [0.70894608 0.72263072 0.73406863 0.72120098 0.74979575 0.7689951\n",
            " 0.74468954 0.7120098  0.74673203 0.75490196 0.76041667 0.75980392\n",
            " 0.74652778 0.76245915 0.77062908 0.80412582 0.78104575 0.79411765\n",
            " 0.76021242 0.73488562 0.72406046 0.73999183 0.74979575 0.76143791\n",
            " 0.75428922 0.74754902 0.76960784 0.7495915  0.81719771 0.80208333\n",
            " 0.77736928 0.75714869 0.79370915 0.79166667 0.77144608 0.75265523\n",
            " 0.72691993 0.6629902  0.68198529 0.64419935 0.62152778 0.6439951\n",
            " 0.66319444 0.67544935 0.63705065 0.64603758 0.65890523 0.65870098\n",
            " 0.67790033 0.63194444 0.63112745 0.62785948 0.64767157 0.63991013\n",
            " 0.63480392 0.63868464 0.62336601 0.62745098 0.63970588 0.64705882\n",
            " 0.66196895 0.67075163 0.65196078 0.63112745 0.61294935 0.6376634\n",
            " 0.62254902 0.62745098 0.63337418 0.62642974 0.63623366 0.58312908\n",
            " 0.57781863 0.57230392 0.58006536 0.57618464 0.55167484 0.57883987\n",
            " 0.625      0.63582516 0.62949346 0.62888072 0.62765523 0.62234477\n",
            " 0.63378268 0.62622549 0.62214052 0.62418301 0.63471705 0.64949\n",
            " 0.66158462 0.67203993 0.68191779 0.69205099 0.70231926 0.71245289\n",
            " 0.72231847 0.73189133 0.74116862 0.7501415 ]\n",
            "Day 12 output [[0.75880337]]\n",
            "Day 13 input [0.72263072 0.73406863 0.72120098 0.74979575 0.7689951  0.74468954\n",
            " 0.7120098  0.74673203 0.75490196 0.76041667 0.75980392 0.74652778\n",
            " 0.76245915 0.77062908 0.80412582 0.78104575 0.79411765 0.76021242\n",
            " 0.73488562 0.72406046 0.73999183 0.74979575 0.76143791 0.75428922\n",
            " 0.74754902 0.76960784 0.7495915  0.81719771 0.80208333 0.77736928\n",
            " 0.75714869 0.79370915 0.79166667 0.77144608 0.75265523 0.72691993\n",
            " 0.6629902  0.68198529 0.64419935 0.62152778 0.6439951  0.66319444\n",
            " 0.67544935 0.63705065 0.64603758 0.65890523 0.65870098 0.67790033\n",
            " 0.63194444 0.63112745 0.62785948 0.64767157 0.63991013 0.63480392\n",
            " 0.63868464 0.62336601 0.62745098 0.63970588 0.64705882 0.66196895\n",
            " 0.67075163 0.65196078 0.63112745 0.61294935 0.6376634  0.62254902\n",
            " 0.62745098 0.63337418 0.62642974 0.63623366 0.58312908 0.57781863\n",
            " 0.57230392 0.58006536 0.57618464 0.55167484 0.57883987 0.625\n",
            " 0.63582516 0.62949346 0.62888072 0.62765523 0.62234477 0.63378268\n",
            " 0.62622549 0.62214052 0.62418301 0.63471705 0.64949    0.66158462\n",
            " 0.67203993 0.68191779 0.69205099 0.70231926 0.71245289 0.72231847\n",
            " 0.73189133 0.74116862 0.7501415  0.75880337]\n",
            "Day 13 output [[0.76716083]]\n",
            "Day 14 input [0.73406863 0.72120098 0.74979575 0.7689951  0.74468954 0.7120098\n",
            " 0.74673203 0.75490196 0.76041667 0.75980392 0.74652778 0.76245915\n",
            " 0.77062908 0.80412582 0.78104575 0.79411765 0.76021242 0.73488562\n",
            " 0.72406046 0.73999183 0.74979575 0.76143791 0.75428922 0.74754902\n",
            " 0.76960784 0.7495915  0.81719771 0.80208333 0.77736928 0.75714869\n",
            " 0.79370915 0.79166667 0.77144608 0.75265523 0.72691993 0.6629902\n",
            " 0.68198529 0.64419935 0.62152778 0.6439951  0.66319444 0.67544935\n",
            " 0.63705065 0.64603758 0.65890523 0.65870098 0.67790033 0.63194444\n",
            " 0.63112745 0.62785948 0.64767157 0.63991013 0.63480392 0.63868464\n",
            " 0.62336601 0.62745098 0.63970588 0.64705882 0.66196895 0.67075163\n",
            " 0.65196078 0.63112745 0.61294935 0.6376634  0.62254902 0.62745098\n",
            " 0.63337418 0.62642974 0.63623366 0.58312908 0.57781863 0.57230392\n",
            " 0.58006536 0.57618464 0.55167484 0.57883987 0.625      0.63582516\n",
            " 0.62949346 0.62888072 0.62765523 0.62234477 0.63378268 0.62622549\n",
            " 0.62214052 0.62418301 0.63471705 0.64949    0.66158462 0.67203993\n",
            " 0.68191779 0.69205099 0.70231926 0.71245289 0.72231847 0.73189133\n",
            " 0.74116862 0.7501415  0.75880337 0.76716083]\n",
            "Day 14 output [[0.77523136]]\n",
            "Day 15 input [0.72120098 0.74979575 0.7689951  0.74468954 0.7120098  0.74673203\n",
            " 0.75490196 0.76041667 0.75980392 0.74652778 0.76245915 0.77062908\n",
            " 0.80412582 0.78104575 0.79411765 0.76021242 0.73488562 0.72406046\n",
            " 0.73999183 0.74979575 0.76143791 0.75428922 0.74754902 0.76960784\n",
            " 0.7495915  0.81719771 0.80208333 0.77736928 0.75714869 0.79370915\n",
            " 0.79166667 0.77144608 0.75265523 0.72691993 0.6629902  0.68198529\n",
            " 0.64419935 0.62152778 0.6439951  0.66319444 0.67544935 0.63705065\n",
            " 0.64603758 0.65890523 0.65870098 0.67790033 0.63194444 0.63112745\n",
            " 0.62785948 0.64767157 0.63991013 0.63480392 0.63868464 0.62336601\n",
            " 0.62745098 0.63970588 0.64705882 0.66196895 0.67075163 0.65196078\n",
            " 0.63112745 0.61294935 0.6376634  0.62254902 0.62745098 0.63337418\n",
            " 0.62642974 0.63623366 0.58312908 0.57781863 0.57230392 0.58006536\n",
            " 0.57618464 0.55167484 0.57883987 0.625      0.63582516 0.62949346\n",
            " 0.62888072 0.62765523 0.62234477 0.63378268 0.62622549 0.62214052\n",
            " 0.62418301 0.63471705 0.64949    0.66158462 0.67203993 0.68191779\n",
            " 0.69205099 0.70231926 0.71245289 0.72231847 0.73189133 0.74116862\n",
            " 0.7501415  0.75880337 0.76716083 0.77523136]\n",
            "Day 15 output [[0.78303814]]\n",
            "Day 16 input [0.74979575 0.7689951  0.74468954 0.7120098  0.74673203 0.75490196\n",
            " 0.76041667 0.75980392 0.74652778 0.76245915 0.77062908 0.80412582\n",
            " 0.78104575 0.79411765 0.76021242 0.73488562 0.72406046 0.73999183\n",
            " 0.74979575 0.76143791 0.75428922 0.74754902 0.76960784 0.7495915\n",
            " 0.81719771 0.80208333 0.77736928 0.75714869 0.79370915 0.79166667\n",
            " 0.77144608 0.75265523 0.72691993 0.6629902  0.68198529 0.64419935\n",
            " 0.62152778 0.6439951  0.66319444 0.67544935 0.63705065 0.64603758\n",
            " 0.65890523 0.65870098 0.67790033 0.63194444 0.63112745 0.62785948\n",
            " 0.64767157 0.63991013 0.63480392 0.63868464 0.62336601 0.62745098\n",
            " 0.63970588 0.64705882 0.66196895 0.67075163 0.65196078 0.63112745\n",
            " 0.61294935 0.6376634  0.62254902 0.62745098 0.63337418 0.62642974\n",
            " 0.63623366 0.58312908 0.57781863 0.57230392 0.58006536 0.57618464\n",
            " 0.55167484 0.57883987 0.625      0.63582516 0.62949346 0.62888072\n",
            " 0.62765523 0.62234477 0.63378268 0.62622549 0.62214052 0.62418301\n",
            " 0.63471705 0.64949    0.66158462 0.67203993 0.68191779 0.69205099\n",
            " 0.70231926 0.71245289 0.72231847 0.73189133 0.74116862 0.7501415\n",
            " 0.75880337 0.76716083 0.77523136 0.78303814]\n",
            "Day 16 output [[0.7906058]]\n",
            "Day 17 input [0.7689951  0.74468954 0.7120098  0.74673203 0.75490196 0.76041667\n",
            " 0.75980392 0.74652778 0.76245915 0.77062908 0.80412582 0.78104575\n",
            " 0.79411765 0.76021242 0.73488562 0.72406046 0.73999183 0.74979575\n",
            " 0.76143791 0.75428922 0.74754902 0.76960784 0.7495915  0.81719771\n",
            " 0.80208333 0.77736928 0.75714869 0.79370915 0.79166667 0.77144608\n",
            " 0.75265523 0.72691993 0.6629902  0.68198529 0.64419935 0.62152778\n",
            " 0.6439951  0.66319444 0.67544935 0.63705065 0.64603758 0.65890523\n",
            " 0.65870098 0.67790033 0.63194444 0.63112745 0.62785948 0.64767157\n",
            " 0.63991013 0.63480392 0.63868464 0.62336601 0.62745098 0.63970588\n",
            " 0.64705882 0.66196895 0.67075163 0.65196078 0.63112745 0.61294935\n",
            " 0.6376634  0.62254902 0.62745098 0.63337418 0.62642974 0.63623366\n",
            " 0.58312908 0.57781863 0.57230392 0.58006536 0.57618464 0.55167484\n",
            " 0.57883987 0.625      0.63582516 0.62949346 0.62888072 0.62765523\n",
            " 0.62234477 0.63378268 0.62622549 0.62214052 0.62418301 0.63471705\n",
            " 0.64949    0.66158462 0.67203993 0.68191779 0.69205099 0.70231926\n",
            " 0.71245289 0.72231847 0.73189133 0.74116862 0.7501415  0.75880337\n",
            " 0.76716083 0.77523136 0.78303814 0.79060578]\n",
            "Day 17 output [[0.7979592]]\n",
            "Day 18 input [0.74468954 0.7120098  0.74673203 0.75490196 0.76041667 0.75980392\n",
            " 0.74652778 0.76245915 0.77062908 0.80412582 0.78104575 0.79411765\n",
            " 0.76021242 0.73488562 0.72406046 0.73999183 0.74979575 0.76143791\n",
            " 0.75428922 0.74754902 0.76960784 0.7495915  0.81719771 0.80208333\n",
            " 0.77736928 0.75714869 0.79370915 0.79166667 0.77144608 0.75265523\n",
            " 0.72691993 0.6629902  0.68198529 0.64419935 0.62152778 0.6439951\n",
            " 0.66319444 0.67544935 0.63705065 0.64603758 0.65890523 0.65870098\n",
            " 0.67790033 0.63194444 0.63112745 0.62785948 0.64767157 0.63991013\n",
            " 0.63480392 0.63868464 0.62336601 0.62745098 0.63970588 0.64705882\n",
            " 0.66196895 0.67075163 0.65196078 0.63112745 0.61294935 0.6376634\n",
            " 0.62254902 0.62745098 0.63337418 0.62642974 0.63623366 0.58312908\n",
            " 0.57781863 0.57230392 0.58006536 0.57618464 0.55167484 0.57883987\n",
            " 0.625      0.63582516 0.62949346 0.62888072 0.62765523 0.62234477\n",
            " 0.63378268 0.62622549 0.62214052 0.62418301 0.63471705 0.64949\n",
            " 0.66158462 0.67203993 0.68191779 0.69205099 0.70231926 0.71245289\n",
            " 0.72231847 0.73189133 0.74116862 0.7501415  0.75880337 0.76716083\n",
            " 0.77523136 0.78303814 0.79060578 0.79795921]\n",
            "Day 18 output [[0.80512255]]\n",
            "Day 19 input [0.7120098  0.74673203 0.75490196 0.76041667 0.75980392 0.74652778\n",
            " 0.76245915 0.77062908 0.80412582 0.78104575 0.79411765 0.76021242\n",
            " 0.73488562 0.72406046 0.73999183 0.74979575 0.76143791 0.75428922\n",
            " 0.74754902 0.76960784 0.7495915  0.81719771 0.80208333 0.77736928\n",
            " 0.75714869 0.79370915 0.79166667 0.77144608 0.75265523 0.72691993\n",
            " 0.6629902  0.68198529 0.64419935 0.62152778 0.6439951  0.66319444\n",
            " 0.67544935 0.63705065 0.64603758 0.65890523 0.65870098 0.67790033\n",
            " 0.63194444 0.63112745 0.62785948 0.64767157 0.63991013 0.63480392\n",
            " 0.63868464 0.62336601 0.62745098 0.63970588 0.64705882 0.66196895\n",
            " 0.67075163 0.65196078 0.63112745 0.61294935 0.6376634  0.62254902\n",
            " 0.62745098 0.63337418 0.62642974 0.63623366 0.58312908 0.57781863\n",
            " 0.57230392 0.58006536 0.57618464 0.55167484 0.57883987 0.625\n",
            " 0.63582516 0.62949346 0.62888072 0.62765523 0.62234477 0.63378268\n",
            " 0.62622549 0.62214052 0.62418301 0.63471705 0.64949    0.66158462\n",
            " 0.67203993 0.68191779 0.69205099 0.70231926 0.71245289 0.72231847\n",
            " 0.73189133 0.74116862 0.7501415  0.75880337 0.76716083 0.77523136\n",
            " 0.78303814 0.79060578 0.79795921 0.80512255]\n",
            "Day 19 output [[0.8121182]]\n",
            "Day 20 input [0.74673203 0.75490196 0.76041667 0.75980392 0.74652778 0.76245915\n",
            " 0.77062908 0.80412582 0.78104575 0.79411765 0.76021242 0.73488562\n",
            " 0.72406046 0.73999183 0.74979575 0.76143791 0.75428922 0.74754902\n",
            " 0.76960784 0.7495915  0.81719771 0.80208333 0.77736928 0.75714869\n",
            " 0.79370915 0.79166667 0.77144608 0.75265523 0.72691993 0.6629902\n",
            " 0.68198529 0.64419935 0.62152778 0.6439951  0.66319444 0.67544935\n",
            " 0.63705065 0.64603758 0.65890523 0.65870098 0.67790033 0.63194444\n",
            " 0.63112745 0.62785948 0.64767157 0.63991013 0.63480392 0.63868464\n",
            " 0.62336601 0.62745098 0.63970588 0.64705882 0.66196895 0.67075163\n",
            " 0.65196078 0.63112745 0.61294935 0.6376634  0.62254902 0.62745098\n",
            " 0.63337418 0.62642974 0.63623366 0.58312908 0.57781863 0.57230392\n",
            " 0.58006536 0.57618464 0.55167484 0.57883987 0.625      0.63582516\n",
            " 0.62949346 0.62888072 0.62765523 0.62234477 0.63378268 0.62622549\n",
            " 0.62214052 0.62418301 0.63471705 0.64949    0.66158462 0.67203993\n",
            " 0.68191779 0.69205099 0.70231926 0.71245289 0.72231847 0.73189133\n",
            " 0.74116862 0.7501415  0.75880337 0.76716083 0.77523136 0.78303814\n",
            " 0.79060578 0.79795921 0.80512255 0.81211817]\n",
            "Day 20 output [[0.81896585]]\n",
            "Day 21 input [0.75490196 0.76041667 0.75980392 0.74652778 0.76245915 0.77062908\n",
            " 0.80412582 0.78104575 0.79411765 0.76021242 0.73488562 0.72406046\n",
            " 0.73999183 0.74979575 0.76143791 0.75428922 0.74754902 0.76960784\n",
            " 0.7495915  0.81719771 0.80208333 0.77736928 0.75714869 0.79370915\n",
            " 0.79166667 0.77144608 0.75265523 0.72691993 0.6629902  0.68198529\n",
            " 0.64419935 0.62152778 0.6439951  0.66319444 0.67544935 0.63705065\n",
            " 0.64603758 0.65890523 0.65870098 0.67790033 0.63194444 0.63112745\n",
            " 0.62785948 0.64767157 0.63991013 0.63480392 0.63868464 0.62336601\n",
            " 0.62745098 0.63970588 0.64705882 0.66196895 0.67075163 0.65196078\n",
            " 0.63112745 0.61294935 0.6376634  0.62254902 0.62745098 0.63337418\n",
            " 0.62642974 0.63623366 0.58312908 0.57781863 0.57230392 0.58006536\n",
            " 0.57618464 0.55167484 0.57883987 0.625      0.63582516 0.62949346\n",
            " 0.62888072 0.62765523 0.62234477 0.63378268 0.62622549 0.62214052\n",
            " 0.62418301 0.63471705 0.64949    0.66158462 0.67203993 0.68191779\n",
            " 0.69205099 0.70231926 0.71245289 0.72231847 0.73189133 0.74116862\n",
            " 0.7501415  0.75880337 0.76716083 0.77523136 0.78303814 0.79060578\n",
            " 0.79795921 0.80512255 0.81211817 0.81896585]\n",
            "Day 21 output [[0.82568294]]\n",
            "Day 22 input [0.76041667 0.75980392 0.74652778 0.76245915 0.77062908 0.80412582\n",
            " 0.78104575 0.79411765 0.76021242 0.73488562 0.72406046 0.73999183\n",
            " 0.74979575 0.76143791 0.75428922 0.74754902 0.76960784 0.7495915\n",
            " 0.81719771 0.80208333 0.77736928 0.75714869 0.79370915 0.79166667\n",
            " 0.77144608 0.75265523 0.72691993 0.6629902  0.68198529 0.64419935\n",
            " 0.62152778 0.6439951  0.66319444 0.67544935 0.63705065 0.64603758\n",
            " 0.65890523 0.65870098 0.67790033 0.63194444 0.63112745 0.62785948\n",
            " 0.64767157 0.63991013 0.63480392 0.63868464 0.62336601 0.62745098\n",
            " 0.63970588 0.64705882 0.66196895 0.67075163 0.65196078 0.63112745\n",
            " 0.61294935 0.6376634  0.62254902 0.62745098 0.63337418 0.62642974\n",
            " 0.63623366 0.58312908 0.57781863 0.57230392 0.58006536 0.57618464\n",
            " 0.55167484 0.57883987 0.625      0.63582516 0.62949346 0.62888072\n",
            " 0.62765523 0.62234477 0.63378268 0.62622549 0.62214052 0.62418301\n",
            " 0.63471705 0.64949    0.66158462 0.67203993 0.68191779 0.69205099\n",
            " 0.70231926 0.71245289 0.72231847 0.73189133 0.74116862 0.7501415\n",
            " 0.75880337 0.76716083 0.77523136 0.78303814 0.79060578 0.79795921\n",
            " 0.80512255 0.81211817 0.81896585 0.82568294]\n",
            "Day 22 output [[0.83228266]]\n",
            "Day 23 input [0.75980392 0.74652778 0.76245915 0.77062908 0.80412582 0.78104575\n",
            " 0.79411765 0.76021242 0.73488562 0.72406046 0.73999183 0.74979575\n",
            " 0.76143791 0.75428922 0.74754902 0.76960784 0.7495915  0.81719771\n",
            " 0.80208333 0.77736928 0.75714869 0.79370915 0.79166667 0.77144608\n",
            " 0.75265523 0.72691993 0.6629902  0.68198529 0.64419935 0.62152778\n",
            " 0.6439951  0.66319444 0.67544935 0.63705065 0.64603758 0.65890523\n",
            " 0.65870098 0.67790033 0.63194444 0.63112745 0.62785948 0.64767157\n",
            " 0.63991013 0.63480392 0.63868464 0.62336601 0.62745098 0.63970588\n",
            " 0.64705882 0.66196895 0.67075163 0.65196078 0.63112745 0.61294935\n",
            " 0.6376634  0.62254902 0.62745098 0.63337418 0.62642974 0.63623366\n",
            " 0.58312908 0.57781863 0.57230392 0.58006536 0.57618464 0.55167484\n",
            " 0.57883987 0.625      0.63582516 0.62949346 0.62888072 0.62765523\n",
            " 0.62234477 0.63378268 0.62622549 0.62214052 0.62418301 0.63471705\n",
            " 0.64949    0.66158462 0.67203993 0.68191779 0.69205099 0.70231926\n",
            " 0.71245289 0.72231847 0.73189133 0.74116862 0.7501415  0.75880337\n",
            " 0.76716083 0.77523136 0.78303814 0.79060578 0.79795921 0.80512255\n",
            " 0.81211817 0.81896585 0.82568294 0.83228266]\n",
            "Day 23 output [[0.8387762]]\n",
            "Day 24 input [0.74652778 0.76245915 0.77062908 0.80412582 0.78104575 0.79411765\n",
            " 0.76021242 0.73488562 0.72406046 0.73999183 0.74979575 0.76143791\n",
            " 0.75428922 0.74754902 0.76960784 0.7495915  0.81719771 0.80208333\n",
            " 0.77736928 0.75714869 0.79370915 0.79166667 0.77144608 0.75265523\n",
            " 0.72691993 0.6629902  0.68198529 0.64419935 0.62152778 0.6439951\n",
            " 0.66319444 0.67544935 0.63705065 0.64603758 0.65890523 0.65870098\n",
            " 0.67790033 0.63194444 0.63112745 0.62785948 0.64767157 0.63991013\n",
            " 0.63480392 0.63868464 0.62336601 0.62745098 0.63970588 0.64705882\n",
            " 0.66196895 0.67075163 0.65196078 0.63112745 0.61294935 0.6376634\n",
            " 0.62254902 0.62745098 0.63337418 0.62642974 0.63623366 0.58312908\n",
            " 0.57781863 0.57230392 0.58006536 0.57618464 0.55167484 0.57883987\n",
            " 0.625      0.63582516 0.62949346 0.62888072 0.62765523 0.62234477\n",
            " 0.63378268 0.62622549 0.62214052 0.62418301 0.63471705 0.64949\n",
            " 0.66158462 0.67203993 0.68191779 0.69205099 0.70231926 0.71245289\n",
            " 0.72231847 0.73189133 0.74116862 0.7501415  0.75880337 0.76716083\n",
            " 0.77523136 0.78303814 0.79060578 0.79795921 0.80512255 0.81211817\n",
            " 0.81896585 0.82568294 0.83228266 0.83877617]\n",
            "Day 24 output [[0.8451727]]\n",
            "Day 25 input [0.76245915 0.77062908 0.80412582 0.78104575 0.79411765 0.76021242\n",
            " 0.73488562 0.72406046 0.73999183 0.74979575 0.76143791 0.75428922\n",
            " 0.74754902 0.76960784 0.7495915  0.81719771 0.80208333 0.77736928\n",
            " 0.75714869 0.79370915 0.79166667 0.77144608 0.75265523 0.72691993\n",
            " 0.6629902  0.68198529 0.64419935 0.62152778 0.6439951  0.66319444\n",
            " 0.67544935 0.63705065 0.64603758 0.65890523 0.65870098 0.67790033\n",
            " 0.63194444 0.63112745 0.62785948 0.64767157 0.63991013 0.63480392\n",
            " 0.63868464 0.62336601 0.62745098 0.63970588 0.64705882 0.66196895\n",
            " 0.67075163 0.65196078 0.63112745 0.61294935 0.6376634  0.62254902\n",
            " 0.62745098 0.63337418 0.62642974 0.63623366 0.58312908 0.57781863\n",
            " 0.57230392 0.58006536 0.57618464 0.55167484 0.57883987 0.625\n",
            " 0.63582516 0.62949346 0.62888072 0.62765523 0.62234477 0.63378268\n",
            " 0.62622549 0.62214052 0.62418301 0.63471705 0.64949    0.66158462\n",
            " 0.67203993 0.68191779 0.69205099 0.70231926 0.71245289 0.72231847\n",
            " 0.73189133 0.74116862 0.7501415  0.75880337 0.76716083 0.77523136\n",
            " 0.78303814 0.79060578 0.79795921 0.80512255 0.81211817 0.81896585\n",
            " 0.82568294 0.83228266 0.83877617 0.8451727 ]\n",
            "Day 25 output [[0.8514787]]\n",
            "Day 26 input [0.77062908 0.80412582 0.78104575 0.79411765 0.76021242 0.73488562\n",
            " 0.72406046 0.73999183 0.74979575 0.76143791 0.75428922 0.74754902\n",
            " 0.76960784 0.7495915  0.81719771 0.80208333 0.77736928 0.75714869\n",
            " 0.79370915 0.79166667 0.77144608 0.75265523 0.72691993 0.6629902\n",
            " 0.68198529 0.64419935 0.62152778 0.6439951  0.66319444 0.67544935\n",
            " 0.63705065 0.64603758 0.65890523 0.65870098 0.67790033 0.63194444\n",
            " 0.63112745 0.62785948 0.64767157 0.63991013 0.63480392 0.63868464\n",
            " 0.62336601 0.62745098 0.63970588 0.64705882 0.66196895 0.67075163\n",
            " 0.65196078 0.63112745 0.61294935 0.6376634  0.62254902 0.62745098\n",
            " 0.63337418 0.62642974 0.63623366 0.58312908 0.57781863 0.57230392\n",
            " 0.58006536 0.57618464 0.55167484 0.57883987 0.625      0.63582516\n",
            " 0.62949346 0.62888072 0.62765523 0.62234477 0.63378268 0.62622549\n",
            " 0.62214052 0.62418301 0.63471705 0.64949    0.66158462 0.67203993\n",
            " 0.68191779 0.69205099 0.70231926 0.71245289 0.72231847 0.73189133\n",
            " 0.74116862 0.7501415  0.75880337 0.76716083 0.77523136 0.78303814\n",
            " 0.79060578 0.79795921 0.80512255 0.81211817 0.81896585 0.82568294\n",
            " 0.83228266 0.83877617 0.8451727  0.8514787 ]\n",
            "Day 26 output [[0.8576988]]\n",
            "Day 27 input [0.80412582 0.78104575 0.79411765 0.76021242 0.73488562 0.72406046\n",
            " 0.73999183 0.74979575 0.76143791 0.75428922 0.74754902 0.76960784\n",
            " 0.7495915  0.81719771 0.80208333 0.77736928 0.75714869 0.79370915\n",
            " 0.79166667 0.77144608 0.75265523 0.72691993 0.6629902  0.68198529\n",
            " 0.64419935 0.62152778 0.6439951  0.66319444 0.67544935 0.63705065\n",
            " 0.64603758 0.65890523 0.65870098 0.67790033 0.63194444 0.63112745\n",
            " 0.62785948 0.64767157 0.63991013 0.63480392 0.63868464 0.62336601\n",
            " 0.62745098 0.63970588 0.64705882 0.66196895 0.67075163 0.65196078\n",
            " 0.63112745 0.61294935 0.6376634  0.62254902 0.62745098 0.63337418\n",
            " 0.62642974 0.63623366 0.58312908 0.57781863 0.57230392 0.58006536\n",
            " 0.57618464 0.55167484 0.57883987 0.625      0.63582516 0.62949346\n",
            " 0.62888072 0.62765523 0.62234477 0.63378268 0.62622549 0.62214052\n",
            " 0.62418301 0.63471705 0.64949    0.66158462 0.67203993 0.68191779\n",
            " 0.69205099 0.70231926 0.71245289 0.72231847 0.73189133 0.74116862\n",
            " 0.7501415  0.75880337 0.76716083 0.77523136 0.78303814 0.79060578\n",
            " 0.79795921 0.80512255 0.81211817 0.81896585 0.82568294 0.83228266\n",
            " 0.83877617 0.8451727  0.8514787  0.8576988 ]\n",
            "Day 27 output [[0.86383617]]\n",
            "Day 28 input [0.78104575 0.79411765 0.76021242 0.73488562 0.72406046 0.73999183\n",
            " 0.74979575 0.76143791 0.75428922 0.74754902 0.76960784 0.7495915\n",
            " 0.81719771 0.80208333 0.77736928 0.75714869 0.79370915 0.79166667\n",
            " 0.77144608 0.75265523 0.72691993 0.6629902  0.68198529 0.64419935\n",
            " 0.62152778 0.6439951  0.66319444 0.67544935 0.63705065 0.64603758\n",
            " 0.65890523 0.65870098 0.67790033 0.63194444 0.63112745 0.62785948\n",
            " 0.64767157 0.63991013 0.63480392 0.63868464 0.62336601 0.62745098\n",
            " 0.63970588 0.64705882 0.66196895 0.67075163 0.65196078 0.63112745\n",
            " 0.61294935 0.6376634  0.62254902 0.62745098 0.63337418 0.62642974\n",
            " 0.63623366 0.58312908 0.57781863 0.57230392 0.58006536 0.57618464\n",
            " 0.55167484 0.57883987 0.625      0.63582516 0.62949346 0.62888072\n",
            " 0.62765523 0.62234477 0.63378268 0.62622549 0.62214052 0.62418301\n",
            " 0.63471705 0.64949    0.66158462 0.67203993 0.68191779 0.69205099\n",
            " 0.70231926 0.71245289 0.72231847 0.73189133 0.74116862 0.7501415\n",
            " 0.75880337 0.76716083 0.77523136 0.78303814 0.79060578 0.79795921\n",
            " 0.80512255 0.81211817 0.81896585 0.82568294 0.83228266 0.83877617\n",
            " 0.8451727  0.8514787  0.8576988  0.86383617]\n",
            "Day 28 output [[0.8698929]]\n",
            "Day 29 input [0.79411765 0.76021242 0.73488562 0.72406046 0.73999183 0.74979575\n",
            " 0.76143791 0.75428922 0.74754902 0.76960784 0.7495915  0.81719771\n",
            " 0.80208333 0.77736928 0.75714869 0.79370915 0.79166667 0.77144608\n",
            " 0.75265523 0.72691993 0.6629902  0.68198529 0.64419935 0.62152778\n",
            " 0.6439951  0.66319444 0.67544935 0.63705065 0.64603758 0.65890523\n",
            " 0.65870098 0.67790033 0.63194444 0.63112745 0.62785948 0.64767157\n",
            " 0.63991013 0.63480392 0.63868464 0.62336601 0.62745098 0.63970588\n",
            " 0.64705882 0.66196895 0.67075163 0.65196078 0.63112745 0.61294935\n",
            " 0.6376634  0.62254902 0.62745098 0.63337418 0.62642974 0.63623366\n",
            " 0.58312908 0.57781863 0.57230392 0.58006536 0.57618464 0.55167484\n",
            " 0.57883987 0.625      0.63582516 0.62949346 0.62888072 0.62765523\n",
            " 0.62234477 0.63378268 0.62622549 0.62214052 0.62418301 0.63471705\n",
            " 0.64949    0.66158462 0.67203993 0.68191779 0.69205099 0.70231926\n",
            " 0.71245289 0.72231847 0.73189133 0.74116862 0.7501415  0.75880337\n",
            " 0.76716083 0.77523136 0.78303814 0.79060578 0.79795921 0.80512255\n",
            " 0.81211817 0.81896585 0.82568294 0.83228266 0.83877617 0.8451727\n",
            " 0.8514787  0.8576988  0.86383617 0.8698929 ]\n",
            "Day 29 output [[0.87586945]]\n",
            "[[0.6347170472145081], [0.6494899988174438], [0.6615846157073975], [0.6720399260520935], [0.6819177865982056], [0.6920509934425354], [0.7023192644119263], [0.7124528884887695], [0.7223184704780579], [0.7318913340568542], [0.7411686182022095], [0.7501415014266968], [0.7588033676147461], [0.7671608328819275], [0.7752313613891602], [0.7830381393432617], [0.7906057834625244], [0.7979592084884644], [0.8051225543022156], [0.8121181726455688], [0.8189658522605896], [0.8256829380989075], [0.8322826623916626], [0.838776171207428], [0.8451727032661438], [0.8514786958694458], [0.8576987981796265], [0.8638361692428589], [0.8698928952217102], [0.8758694529533386]]\n"
          ],
          "name": "stdout"
        }
      ]
    },
    {
      "cell_type": "markdown",
      "metadata": {
        "id": "hq77b5srRqZo"
      },
      "source": [
        "# Plotting the predicted data of 30 days in future."
      ]
    },
    {
      "cell_type": "code",
      "metadata": {
        "id": "qbr0wJqORuRz"
      },
      "source": [
        "new_day = np.arange(1, 101)\n",
        "pred_day = np.arange(101, 131)"
      ],
      "execution_count": 60,
      "outputs": []
    },
    {
      "cell_type": "code",
      "metadata": {
        "colab": {
          "base_uri": "https://localhost:8080/"
        },
        "id": "lVl3Vx8JSKYK",
        "outputId": "54b3be55-b271-4180-c30d-1f9bc0eaad9c"
      },
      "source": [
        "len(df)"
      ],
      "execution_count": 61,
      "outputs": [
        {
          "output_type": "execute_result",
          "data": {
            "text/plain": [
              "2035"
            ]
          },
          "metadata": {},
          "execution_count": 61
        }
      ]
    },
    {
      "cell_type": "code",
      "metadata": {
        "colab": {
          "base_uri": "https://localhost:8080/",
          "height": 428
        },
        "id": "GHicXycpR8wi",
        "outputId": "1eb2eb19-9304-4ba1-ff37-f9178c300adc"
      },
      "source": [
        "plt.figure(figsize=(18, 7))\n",
        "plt.plot(new_day, sc.inverse_transform(df[1935:]), label=\"Existing data\")\n",
        "plt.plot(pred_day, sc.inverse_transform(output), label=\"Predicted Data\")\n",
        "plt.legend(loc=\"upper left\")\n",
        "plt.show()"
      ],
      "execution_count": 63,
      "outputs": [
        {
          "output_type": "display_data",
          "data": {
            "image/png": "[encoded data removed]",
            "text/plain": [
              "<Figure size 1296x504 with 1 Axes>"
            ]
          },
          "metadata": {
            "needs_background": "light"
          }
        }
      ]
    }
  ]
}